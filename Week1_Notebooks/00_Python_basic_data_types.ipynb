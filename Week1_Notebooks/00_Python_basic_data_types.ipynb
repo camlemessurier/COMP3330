{
 "cells": [
  {
   "cell_type": "markdown",
   "metadata": {},
   "source": [
    "# Python Introduction"
   ]
  },
  {
   "cell_type": "markdown",
   "metadata": {},
   "source": [
    "Python is a popular and widely used *interpreted* programming language (meaning that code is executed directly and not compiled to machine-level code).\n",
    "\n",
    "Python emphasizes code *readability* by using whitespace (tabs/spaces) instead of curly braces and a more succint syntax, allowing programmers to use fewer lines of code than would be necessary in more verbose languages such as Java.\n",
    "\n",
    "Python supports multiple programming paradigms, including object-oriented, imperative, and functional paradigms.\n",
    "\n",
    "Python has become extremely popular with the data science/machine learning communities. As a result, many high quality packages and libraries are available.\n",
    "\n",
    "In this course we will be using **Python 3**."
   ]
  },
  {
   "cell_type": "markdown",
   "metadata": {},
   "source": [
    "## Basic data types"
   ]
  },
  {
   "cell_type": "markdown",
   "metadata": {},
   "source": [
    "Python 3 includes various built-in basic data types, including the following:\n",
    "1. Numeric\n",
    "2. Booleans\n",
    "3. Sequence\n",
    "4. Dictionary\n",
    "    \n",
    "This tutorial will introduce you to these basic data types and various operations which can be performed on/using them."
   ]
  },
  {
   "cell_type": "markdown",
   "metadata": {},
   "source": [
    "## Integers"
   ]
  },
  {
   "cell_type": "code",
   "execution_count": 1,
   "metadata": {},
   "outputs": [
    {
     "output_type": "stream",
     "name": "stdout",
     "text": [
      "4 <class 'int'>\n"
     ]
    }
   ],
   "source": [
    "a = 1 #a is an integer with a value of 1\n",
    "a += 1 #equivalent to a = a + 1 (python does not have a ++ operator)\n",
    "a *= 2 #equivalent to a = a * 2\n",
    "print(a, type(a))"
   ]
  },
  {
   "cell_type": "markdown",
   "metadata": {},
   "source": [
    "## Floats"
   ]
  },
  {
   "cell_type": "code",
   "execution_count": 3,
   "metadata": {},
   "outputs": [
    {
     "output_type": "stream",
     "name": "stdout",
     "text": [
      "1.0 <class 'float'>\n1.5 <class 'float'>\n"
     ]
    }
   ],
   "source": [
    "a = 1. #a is now a float -- variable types can be changed\n",
    "print(a, type(a))\n",
    "\n",
    "a = 1.5\n",
    "print(a, type(a))"
   ]
  },
  {
   "cell_type": "markdown",
   "metadata": {},
   "source": [
    "## Booleans"
   ]
  },
  {
   "cell_type": "code",
   "execution_count": 4,
   "metadata": {},
   "outputs": [
    {
     "output_type": "stream",
     "name": "stdout",
     "text": [
      "<class 'bool'>\nFalse\nTrue\nFalse\nTrue\n"
     ]
    }
   ],
   "source": [
    "a = True\n",
    "b = False\n",
    "\n",
    "print(type(a))\n",
    "print(a and b) #note that all logical operators (other than xor) are words and not symbols\n",
    "print(a or b)\n",
    "print(not a)\n",
    "print(a != b)"
   ]
  },
  {
   "cell_type": "markdown",
   "metadata": {},
   "source": [
    "## Sequence\n",
    "\n",
    "Python 3 contains many sequences and data structures, including:\n",
    "    1. Strings\n",
    "    2. Lists\n",
    "    3. Dictionaries\n",
    "    4. Sets\n",
    "    5. Tuples\n",
    "    \n",
    "The official Python data structures documentation is a great reference and can be found here:\n",
    "\n",
    "https://docs.python.org/3/tutorial/datastructures.html"
   ]
  },
  {
   "cell_type": "markdown",
   "metadata": {},
   "source": [
    "## Strings"
   ]
  },
  {
   "cell_type": "code",
   "execution_count": 6,
   "metadata": {},
   "outputs": [
    {
     "output_type": "stream",
     "name": "stdout",
     "text": [
      "compxxxx\n"
     ]
    }
   ],
   "source": [
    "a = \"comp\"\n",
    "b = \"xxxx\"\n",
    "a += b #string concatenation\n",
    "\n",
    "print(a)"
   ]
  },
  {
   "cell_type": "code",
   "execution_count": 7,
   "metadata": {},
   "outputs": [
    {
     "output_type": "stream",
     "name": "stdout",
     "text": [
      "8\ncompxxxx <class 'str'>\nc\nx\n"
     ]
    }
   ],
   "source": [
    "print(len(a))\n",
    "print(a, type(a))\n",
    "print(a[0]) #access the 0th (first) element of the string\n",
    "print(a[-1]) #access the -1th (last) element of the string"
   ]
  },
  {
   "cell_type": "code",
   "execution_count": 8,
   "metadata": {},
   "outputs": [
    {
     "output_type": "stream",
     "name": "stdout",
     "text": [
      "comp\nxxxx\nmp\n"
     ]
    }
   ],
   "source": [
    "#a[start:end]\n",
    "#a[start:]\n",
    "#a[:end]\n",
    "#a[:]\n",
    "print(a[:4]) #string up until the fifth element of the array\n",
    "print(a[4:]) #string after and including the fifth element of the array\n",
    "\n",
    "print(a[2:4])"
   ]
  },
  {
   "cell_type": "markdown",
   "metadata": {},
   "source": [
    "## Lists\n",
    "\n",
    "Python does not have an in-built array data structure, but instead relies on lists (packages such as Numpy provide standard array functionality if required)."
   ]
  },
  {
   "cell_type": "code",
   "execution_count": 9,
   "metadata": {},
   "outputs": [
    {
     "output_type": "stream",
     "name": "stdout",
     "text": [
      "[3, 2, 1]\n3\n"
     ]
    }
   ],
   "source": [
    "a = [3, 2, 1] #list containing 3 integer elements\n",
    "\n",
    "b = [3, 2, 1, \"hello world\"] #lists can contain elements different types\n",
    "\n",
    "print(a)\n",
    "\n",
    "print(len(a))"
   ]
  },
  {
   "cell_type": "markdown",
   "metadata": {},
   "source": [
    "Arrays can be indexed and sliced as normal."
   ]
  },
  {
   "cell_type": "code",
   "execution_count": 10,
   "metadata": {},
   "outputs": [
    {
     "output_type": "stream",
     "name": "stdout",
     "text": [
      "3\n1\n[2, 1]\n[3]\n"
     ]
    }
   ],
   "source": [
    "print(a[0])\n",
    "print(a[-1])\n",
    "\n",
    "print(a[1:])\n",
    "print(a[:1])"
   ]
  },
  {
   "cell_type": "markdown",
   "metadata": {},
   "source": [
    "Standard list data structure operations can be performed on lists."
   ]
  },
  {
   "cell_type": "code",
   "execution_count": 11,
   "metadata": {},
   "outputs": [
    {
     "output_type": "stream",
     "name": "stdout",
     "text": [
      "[3, 2, 1, 0]\n[4, 3, 2, 1, 0]\n[3, 2, 1, 0]\n[3, 2, 1]\n[2, 1]\n[1, 2]\n[2, 1]\n"
     ]
    }
   ],
   "source": [
    "a.append(0) #insert 0 at the end of the list\n",
    "\n",
    "print(a)\n",
    "\n",
    "a.insert(0, 4) #insert 4 at element 0 (start of the list)\n",
    "\n",
    "print(a)\n",
    "\n",
    "a.remove(4) #this operation only removes the first item in the list equal to 4\n",
    "\n",
    "print(a)\n",
    "\n",
    "a.pop() #removes the last item of the list\n",
    "\n",
    "print(a)\n",
    "\n",
    "a.pop(0) #removes the 0th item of the list\n",
    "\n",
    "print(a)\n",
    "\n",
    "a.sort()\n",
    "\n",
    "print(a)\n",
    "\n",
    "a.reverse()\n",
    "\n",
    "print(a)"
   ]
  },
  {
   "cell_type": "markdown",
   "metadata": {},
   "source": [
    "## Dictionaries\n",
    "\n",
    "Python dictionaries can be thought of as unordered sets of key : value pairs, where keys are unique. Keys can be any immutable type. Here are four different methods of creating the same dictionary:"
   ]
  },
  {
   "cell_type": "code",
   "execution_count": 12,
   "metadata": {},
   "outputs": [
    {
     "output_type": "stream",
     "name": "stdout",
     "text": [
      "{'one': 1, 'two': 2, 'three': 3}\n{'one': 1, 'two': 2, 'three': 3}\n{'two': 2, 'one': 1, 'three': 3}\n{'three': 3, 'one': 1, 'two': 2}\n"
     ]
    }
   ],
   "source": [
    "g = dict(one = 1, two = 2, three = 3)\n",
    "\n",
    "print(g)\n",
    "\n",
    "h = {'one':1, 'two':2, 'three':3} \n",
    "\n",
    "print(h)\n",
    "\n",
    "j = dict([('two', 2), ('one', 1), ('three', 3)])\n",
    "\n",
    "print(j)\n",
    "\n",
    "k = dict({'three': 3, 'one': 1, 'two': 2})\n",
    "\n",
    "print(k)"
   ]
  },
  {
   "cell_type": "markdown",
   "metadata": {},
   "source": [
    "## Sets\n",
    "\n",
    "A set is an unordered collection with no duplicate elements."
   ]
  },
  {
   "cell_type": "code",
   "execution_count": 13,
   "metadata": {},
   "outputs": [
    {
     "output_type": "stream",
     "name": "stdout",
     "text": [
      "{'85', '76', '92'}\n"
     ]
    }
   ],
   "source": [
    "grades = ['76', '85', '92', '76']\n",
    "\n",
    "grades_set = set(grades)\n",
    "\n",
    "print(grades_set) #duplicates have been removed"
   ]
  },
  {
   "cell_type": "markdown",
   "metadata": {},
   "source": [
    "Set objects support mathematical operations such as set difference, union, etc"
   ]
  },
  {
   "cell_type": "code",
   "execution_count": 14,
   "metadata": {},
   "outputs": [
    {
     "output_type": "stream",
     "name": "stdout",
     "text": [
      "{1, 2}\n{1, 2, 3, 4, 5, 6}\n{3, 4}\n{1, 2, 5, 6}\n"
     ]
    }
   ],
   "source": [
    "l = set([1, 2, 3, 4])\n",
    "m = set([3, 4, 5, 6])\n",
    "\n",
    "print(l - m) #difference\n",
    "print(l | m) #union\n",
    "print(l & m) #intersection\n",
    "print(l ^ m) #symm difference"
   ]
  },
  {
   "cell_type": "code",
   "execution_count": null,
   "metadata": {},
   "outputs": [],
   "source": []
  }
 ],
 "metadata": {
  "kernelspec": {
   "name": "python3",
   "display_name": "Python 3.9.2 64-bit",
   "metadata": {
    "interpreter": {
     "hash": "aee8b7b246df8f9039afb4144a1f6fd8d2ca17a180786b69acc140d282b71a49"
    }
   }
  },
  "language_info": {
   "codemirror_mode": {
    "name": "ipython",
    "version": 3
   },
   "file_extension": ".py",
   "mimetype": "text/x-python",
   "name": "python",
   "nbconvert_exporter": "python",
   "pygments_lexer": "ipython3",
   "version": "3.9.2-final"
  }
 },
 "nbformat": 4,
 "nbformat_minor": 2
}