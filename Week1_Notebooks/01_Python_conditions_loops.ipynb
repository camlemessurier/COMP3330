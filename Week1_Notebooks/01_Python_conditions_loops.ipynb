{
 "cells": [
  {
   "cell_type": "markdown",
   "metadata": {},
   "source": [
    "## If-then-else control structure"
   ]
  },
  {
   "cell_type": "code",
   "execution_count": 1,
   "metadata": {},
   "outputs": [
    {
     "output_type": "stream",
     "name": "stdout",
     "text": [
      "D\n"
     ]
    }
   ],
   "source": [
    "mark = 79\n",
    "\n",
    "if mark >= 85:\n",
    "    grade = \"HD\"\n",
    "elif mark >= 75: #\"else if\" is abbreviated to \"elif\"\n",
    "    grade = \"D\"\n",
    "elif mark >= 65:\n",
    "    grade = \"C\"\n",
    "elif mark >= 50:\n",
    "    grade = \"P\"\n",
    "else:\n",
    "    grade = \"F\"\n",
    "    \n",
    "print(grade)"
   ]
  },
  {
   "cell_type": "markdown",
   "metadata": {},
   "source": [
    "## Iterating\n",
    "\n",
    "We can iterate over sequences in a number of ways in Python:\n",
    "\n",
    "1. Using an iterable\n",
    "2. Using a standard for loop\n",
    "3. Using a while loop"
   ]
  },
  {
   "cell_type": "code",
   "execution_count": 2,
   "metadata": {},
   "outputs": [
    {
     "output_type": "stream",
     "name": "stdout",
     "text": [
      "3\n2\n1\n"
     ]
    }
   ],
   "source": [
    "a = [3, 2, 1] #list containing 3 integer elements\n",
    "\n",
    "for element in a: #lists are iterable -- for each element in a\n",
    "    print(element)"
   ]
  },
  {
   "cell_type": "code",
   "execution_count": 3,
   "metadata": {},
   "outputs": [
    {
     "output_type": "stream",
     "name": "stdout",
     "text": [
      "Index 0 Element at index 3\nIndex 1 Element at index 2\nIndex 2 Element at index 1\n"
     ]
    }
   ],
   "source": [
    "for i in range(len(a)): #standard for loop -- range(len(a)) creates a sequence of numbers between 0 and the length of a\n",
    "    print(\"Index\",i,\"Element at index\",a[i])"
   ]
  },
  {
   "cell_type": "code",
   "execution_count": 4,
   "metadata": {},
   "outputs": [
    {
     "output_type": "stream",
     "name": "stdout",
     "text": [
      "3\n2\n1\n"
     ]
    }
   ],
   "source": [
    "i = 0\n",
    "while i < len(a): #standard while loop\n",
    "    print(a[i])\n",
    "    i += 1"
   ]
  },
  {
   "cell_type": "markdown",
   "metadata": {},
   "source": [
    "We can also use *list comprehensions* to write a for loop in one line:"
   ]
  },
  {
   "cell_type": "code",
   "execution_count": 5,
   "metadata": {},
   "outputs": [
    {
     "output_type": "stream",
     "name": "stdout",
     "text": [
      "[6, 4, 2]\n[6, 4, 2]\n"
     ]
    }
   ],
   "source": [
    "b = [x * 2 for x in a]\n",
    "\n",
    "print(b)\n",
    "\n",
    "#equivalent to\n",
    "\n",
    "c = []\n",
    "\n",
    "for x in a:\n",
    "    c.append(x * 2)\n",
    "    \n",
    "print(c)"
   ]
  },
  {
   "cell_type": "markdown",
   "metadata": {},
   "source": [
    "## Aliasing and copying"
   ]
  },
  {
   "cell_type": "code",
   "execution_count": 6,
   "metadata": {},
   "outputs": [
    {
     "output_type": "stream",
     "name": "stdout",
     "text": [
      "[1, 2, 3, 4]\n"
     ]
    }
   ],
   "source": [
    "a = [1, 2, 3]\n",
    "\n",
    "c = a #c is now an ALIAS to a (not a new list)\n",
    "\n",
    "a.append(4) #add to original list\n",
    "\n",
    "print(c) "
   ]
  },
  {
   "cell_type": "markdown",
   "metadata": {},
   "source": [
    "Therefore, we need methods to copy (and not simply alias) lists and other objects:"
   ]
  },
  {
   "cell_type": "code",
   "execution_count": 7,
   "metadata": {},
   "outputs": [],
   "source": [
    "d = a[:] #copying through slicing entire list\n",
    "\n",
    "import copy\n",
    "\n",
    "e = copy.copy(a) #creates a shallow copy of a -- creates a NEW list and inserts REFERENCES to objects found in original list\n",
    "\n",
    "f = copy.deepcopy(a) #creates a deep copy of a -- creates a NEW list and recursively adds COPIES of objects found in original list"
   ]
  },
  {
   "cell_type": "code",
   "execution_count": null,
   "metadata": {},
   "outputs": [],
   "source": []
  }
 ],
 "metadata": {
  "kernelspec": {
   "name": "python3",
   "display_name": "Python 3.9.2 64-bit",
   "metadata": {
    "interpreter": {
     "hash": "aee8b7b246df8f9039afb4144a1f6fd8d2ca17a180786b69acc140d282b71a49"
    }
   }
  },
  "language_info": {
   "codemirror_mode": {
    "name": "ipython",
    "version": 3
   },
   "file_extension": ".py",
   "mimetype": "text/x-python",
   "name": "python",
   "nbconvert_exporter": "python",
   "pygments_lexer": "ipython3",
   "version": "3.9.2-final"
  }
 },
 "nbformat": 4,
 "nbformat_minor": 2
}