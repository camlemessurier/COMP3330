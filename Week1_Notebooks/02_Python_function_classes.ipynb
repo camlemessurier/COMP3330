{
 "cells": [
  {
   "cell_type": "markdown",
   "metadata": {},
   "source": [
    "## Functions\n",
    "It is considered good practice to separate code functionality into *functions*. This allows us to call each function with different *parameters* and generally improves readability. For example, the following code will check if the list **a** contains the value of **b**."
   ]
  },
  {
   "cell_type": "code",
   "execution_count": 1,
   "metadata": {},
   "outputs": [
    {
     "output_type": "stream",
     "name": "stdout",
     "text": [
      "True\n"
     ]
    }
   ],
   "source": [
    "a = [1, 2, 3, 4]\n",
    "b = 3\n",
    "for element in a:\n",
    "    if element == b:\n",
    "        print(True)"
   ]
  },
  {
   "cell_type": "markdown",
   "metadata": {},
   "source": [
    "It would be considered better practice to separate the loop into its own appropriately-named function. For example:"
   ]
  },
  {
   "cell_type": "code",
   "execution_count": 2,
   "metadata": {},
   "outputs": [],
   "source": [
    "def list_contains(input_list, element_to_check):\n",
    "    for element in input_list:\n",
    "        if element == element_to_check:\n",
    "            return True\n",
    "    return False"
   ]
  },
  {
   "cell_type": "markdown",
   "metadata": {},
   "source": [
    "Now we can use reuse this function as many times as we want! Note that the function and its parameters are appropriately named. We have increased the overall readability of our code. To use this function:"
   ]
  },
  {
   "cell_type": "code",
   "execution_count": 3,
   "metadata": {},
   "outputs": [
    {
     "output_type": "stream",
     "name": "stdout",
     "text": [
      "True\nFalse\n"
     ]
    }
   ],
   "source": [
    "a = [10, 11, 12, 13]\n",
    "print(list_contains(a, 10))\n",
    "print(list_contains(a, 20))"
   ]
  },
  {
   "cell_type": "markdown",
   "metadata": {},
   "source": [
    "## Classes\n",
    "\n",
    "In object-oriented programming, a class is a *template* for creating **objects**. Classes provide initial values for variables and implementations of methods that operate on the class' variables.\n",
    "\n",
    "We won't use classes heavily during this course, but it is important to know that they exist and how they work.\n",
    "\n",
    "As a basic example, let's write an Employee class that stores an Employee's name and salary."
   ]
  },
  {
   "cell_type": "code",
   "execution_count": 4,
   "metadata": {},
   "outputs": [],
   "source": [
    "class Employee:\n",
    "    def __init__(self, name, salary): #this method is known as a constructor and is called each time we create a new Employee object\n",
    "        self.name = name #self refers to the current object -- here we are setting the object's name\n",
    "        self.salary = salary\n",
    "        \n",
    "    def give_pay_rise(self, amount):\n",
    "        self.salary += amount\n",
    "        \n",
    "    def print_employee_data(self):\n",
    "        print(\"Employee name:\",self.name,\"\\tEmployee's salary\",self.salary)"
   ]
  },
  {
   "cell_type": "markdown",
   "metadata": {},
   "source": [
    "Next, let's test our Employee class by creating two Employee objects."
   ]
  },
  {
   "cell_type": "code",
   "execution_count": 5,
   "metadata": {},
   "outputs": [
    {
     "output_type": "stream",
     "name": "stdout",
     "text": [
      "Employee name: Doug \tEmployee's salary 50000\nEmployee name: Sarah \tEmployee's salary 65000\nEmployee name: Doug \tEmployee's salary 60000\n"
     ]
    }
   ],
   "source": [
    "doug = Employee(\"Doug\", 50000) #create a new Employee object with name \"Doug\" and salary 50000\n",
    "\n",
    "doug.print_employee_data()\n",
    "\n",
    "sarah = Employee(\"Sarah\", 65000) \n",
    "\n",
    "sarah.print_employee_data()\n",
    "\n",
    "#give doug a pay rise and then display his data again\n",
    "doug.give_pay_rise(10000)\n",
    "doug.print_employee_data()"
   ]
  },
  {
   "cell_type": "markdown",
   "metadata": {},
   "source": [
    "## Classes challenge\n",
    "\n",
    "Even though .add_trick() is being called on two separate objects, it seems that the function is adding both strings to the same list. Modify the code so that each object has its own list of tricks."
   ]
  },
  {
   "cell_type": "code",
   "execution_count": 6,
   "metadata": {},
   "outputs": [
    {
     "output_type": "stream",
     "name": "stdout",
     "text": [
      "['roll over', 'shake hands']\n"
     ]
    }
   ],
   "source": [
    "class Dog:\n",
    "    tricks = []\n",
    "    def __init__(self, name):\n",
    "        self.name = name\n",
    "\n",
    "    def add_trick(self, trick):\n",
    "        self.tricks.append(trick)\n",
    "        \n",
    "dog = Dog(\"Buddy\")\n",
    "dog.add_trick(\"roll over\")\n",
    "\n",
    "dog2 = Dog(\"Lucy\")\n",
    "dog2.add_trick(\"shake hands\")\n",
    "\n",
    "print(dog2.tricks)"
   ]
  },
  {
   "cell_type": "markdown",
   "metadata": {},
   "source": [
    "## Exercise\n",
    "\n",
    "Task: Write a Sigmoid class capable of calculating the sigmoid function for one variable and the sigmoid function for two variables.\n",
    "\n",
    "Use matplotlib to plot these functions for reasonable values of x and y.\n",
    "\n",
    "Visualise the effect of modifying the slope parameters.\n",
    "\n",
    "Be sure to utilise numpy functions in your code."
   ]
  },
  {
   "cell_type": "code",
   "execution_count": null,
   "metadata": {},
   "outputs": [],
   "source": [
    "class Sigmoid:"
   ]
  }
 ],
 "metadata": {
  "kernelspec": {
   "name": "python3",
   "display_name": "Python 3.9.2 64-bit",
   "metadata": {
    "interpreter": {
     "hash": "aee8b7b246df8f9039afb4144a1f6fd8d2ca17a180786b69acc140d282b71a49"
    }
   }
  },
  "language_info": {
   "codemirror_mode": {
    "name": "ipython",
    "version": 3
   },
   "file_extension": ".py",
   "mimetype": "text/x-python",
   "name": "python",
   "nbconvert_exporter": "python",
   "pygments_lexer": "ipython3",
   "version": "3.9.2-final"
  }
 },
 "nbformat": 4,
 "nbformat_minor": 2
}