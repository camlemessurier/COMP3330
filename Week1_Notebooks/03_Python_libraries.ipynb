{
 "cells": [
  {
   "cell_type": "markdown",
   "metadata": {},
   "source": [
    "# Matplotlib\n",
    "\n",
    "Matplotlib is a popular Python plotting library for generating both 2D plots and 3D plots using the mplot3d toolkit.\n",
    "\n",
    "In this course we will mainly use matplotlib.pyplot which is capable of generating a wide range of plots. Find the API documentation for pyplot here:\n",
    "\n",
    "http://matplotlib.org/api/pyplot_summary.html"
   ]
  },
  {
   "cell_type": "markdown",
   "metadata": {},
   "source": [
    "## Simple plot"
   ]
  },
  {
   "cell_type": "code",
   "execution_count": null,
   "metadata": {},
   "outputs": [],
   "source": [
    "import numpy as np\n",
    "import matplotlib.pyplot as plt\n",
    "\n",
    "x = np.arange(0, 5 * np.pi, 0.1)\n",
    "y = np.cos(x)\n",
    "\n",
    "plt.title('Plot title')\n",
    "plt.xlabel('x axis')\n",
    "plt.ylabel('y axis')\n",
    "plt.plot(x, y)\n",
    "plt.show()"
   ]
  },
  {
   "cell_type": "markdown",
   "metadata": {},
   "source": [
    "## Scatter plot"
   ]
  },
  {
   "cell_type": "code",
   "execution_count": null,
   "metadata": {},
   "outputs": [],
   "source": [
    "plt.title('Plot title')\n",
    "plt.xlabel('x axis')\n",
    "plt.ylabel('y axis')\n",
    "plt.scatter(x, y)\n",
    "plt.show()"
   ]
  },
  {
   "cell_type": "markdown",
   "metadata": {},
   "source": [
    "## Using subplots"
   ]
  },
  {
   "cell_type": "code",
   "execution_count": null,
   "metadata": {},
   "outputs": [],
   "source": [
    "f, axarr = plt.subplots(2, sharex=True)\n",
    "axarr[0].plot(x, y)\n",
    "axarr[0].set_title('Sharing X axis')\n",
    "axarr[1].scatter(x, y)\n",
    "\n",
    "plt.show()"
   ]
  },
  {
   "cell_type": "markdown",
   "metadata": {},
   "source": [
    "## 3d plot example\n",
    "\n",
    "Please note that Jupyter does not natively support 3d plotting. \n",
    "\n",
    "Running this code locally will allow users to interact with the plot."
   ]
  },
  {
   "cell_type": "code",
   "execution_count": null,
   "metadata": {},
   "outputs": [],
   "source": [
    "import matplotlib.pyplot as plot\n",
    "from mpl_toolkits.mplot3d import Axes3D\n",
    "from matplotlib import cm\n",
    "from matplotlib.ticker import LinearLocator, FormatStrFormatter\n",
    "import numpy as np\n",
    "\n",
    "def hyperplane(x, y, weights, distance):\n",
    "    return weights[0] * x + weights[1] * y - distance\n",
    "\n",
    "x_values = np.arange(-10.,10.,0.5)\n",
    "y_values = np.arange(-10.,10.,0.5)\n",
    "x, y = np.meshgrid(x_values, y_values)\n",
    "v = [-4, 2, 5] #hyperplane vector\n",
    "d = 6 #distance from origin\n",
    "z = hyperplane(x, y, v, d)\n",
    "\n",
    "fig = plot.figure()\n",
    "ax = fig.add_subplot(111, projection='3d')\n",
    "surf = ax.plot_surface(x, y, z, rstride=1, cstride=1, cmap=cm.hsv,linewidth=0, antialiased=False)\n",
    "fig.colorbar(surf, shrink=0.5, aspect=5)\n",
    "plot.show()"
   ]
  },
  {
   "cell_type": "markdown",
   "metadata": {},
   "source": [
    "# Numpy\n",
    "\n",
    "Numpy is a fundamental numeric computing package for Python. Numpy includes functionality to create N-dimensional arrays, tools for integrating C/C++ code, and provides many mathematical functions."
   ]
  },
  {
   "cell_type": "code",
   "execution_count": null,
   "metadata": {},
   "outputs": [],
   "source": [
    "import numpy as np\n",
    "\n",
    "a = np.array([3, 2, 1]) #create an array from a list\n",
    "\n",
    "print(a, type(a))\n",
    "print(a.shape)\n",
    "print(a[0], a[-1], a[1:], a[:2]) #we can slice numpy arrays"
   ]
  },
  {
   "cell_type": "code",
   "execution_count": null,
   "metadata": {},
   "outputs": [],
   "source": [
    "b = np.array([[3, 2, 1],[6, 5, 4]]) #create 2d array\n",
    "\n",
    "print(b, type(b))\n",
    "print(b.shape)\n",
    "print(b[0, 1], b[1, -1], b[1:], b[:2])"
   ]
  },
  {
   "cell_type": "code",
   "execution_count": null,
   "metadata": {},
   "outputs": [],
   "source": [
    "c = np.zeros((3,2)) #create an array of zeros of given size\n",
    "print(c)\n",
    "\n",
    "d = np.ones((2,3)) #create an array of ones of given size\n",
    "print(d)\n",
    "\n",
    "e = np.random.random((4,2)) #create an array of random numbers of given size\n",
    "print(e)"
   ]
  },
  {
   "cell_type": "code",
   "execution_count": null,
   "metadata": {},
   "outputs": [],
   "source": [
    "#arange creates an array containing evenly spaced numbers within a given interval\n",
    "#numpy.arange(start, stop, step)\n",
    "f = np.arange(4) \n",
    "print(f)\n",
    "\n",
    "g = np.arange(1, 2, 0.1)\n",
    "print(g)"
   ]
  },
  {
   "cell_type": "code",
   "execution_count": null,
   "metadata": {},
   "outputs": [],
   "source": [
    "h = np.arange(0, 10)\n",
    "i = np.arange(10, 20)\n",
    "\n",
    "print(np.add(h, i))\n",
    "\n",
    "print(np.subtract(h, i))\n",
    "\n",
    "print(np.multiply(h, i))\n",
    "\n",
    "print(np.divide(h, i))"
   ]
  },
  {
   "cell_type": "code",
   "execution_count": null,
   "metadata": {},
   "outputs": [],
   "source": [
    "j = np.arange(1, 12)\n",
    "\n",
    "j = np.sqrt(j)\n",
    "\n",
    "print(np.power(j, 2))"
   ]
  },
  {
   "cell_type": "code",
   "execution_count": null,
   "metadata": {},
   "outputs": [],
   "source": [
    "k = np.array([3, 4])\n",
    "l = np.array([5, 6])\n",
    "\n",
    "print(np.dot(k, l)) #computes dot product"
   ]
  },
  {
   "cell_type": "code",
   "execution_count": null,
   "metadata": {},
   "outputs": [],
   "source": [
    "#numpy includes mathematical constants\n",
    "print(np.pi)\n",
    "\n",
    "print(np.e)"
   ]
  },
  {
   "cell_type": "code",
   "execution_count": null,
   "metadata": {},
   "outputs": [],
   "source": []
  }
 ],
 "metadata": {
  "kernelspec": {
   "display_name": "Python 3",
   "language": "python",
   "name": "python3"
  },
  "language_info": {
   "codemirror_mode": {
    "name": "ipython",
    "version": 3
   },
   "file_extension": ".py",
   "mimetype": "text/x-python",
   "name": "python",
   "nbconvert_exporter": "python",
   "pygments_lexer": "ipython3",
   "version": "3.5.2"
  }
 },
 "nbformat": 4,
 "nbformat_minor": 2
}
