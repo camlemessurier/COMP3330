{
 "cells": [
  {
   "cell_type": "markdown",
   "metadata": {},
   "source": [
    "# SVM - Banknote Dataset"
   ]
  },
  {
   "cell_type": "markdown",
   "metadata": {},
   "source": [
    "This task will look at performing classification on a dataset known as the *Banknote Authentication Dataset*.\n",
    "\n",
    "The dataset consists of 1372 samples, where each sample consists of the following 5 attributes:\n",
    "1. variance of Wavelet Transformed image (continuous) \n",
    "2. skewness of Wavelet Transformed image (continuous) \n",
    "3. curtosis of Wavelet Transformed image (continuous) \n",
    "4. entropy of image (continuous) \n",
    "5. class (integer) \n",
    "\n",
    "The output (class) is either a 0 (genuine note), or a 1 (forged note). The task is therefore a binary classification task.\n",
    "\n",
    "More information on the dataset can be found here: https://archive.ics.uci.edu/ml/datasets/banknote+authentication"
   ]
  },
  {
   "cell_type": "code",
   "execution_count": null,
   "metadata": {},
   "outputs": [],
   "source": [
    "import csv\n",
    "from sklearn.svm import SVC\n",
    "import matplotlib.pyplot as plt\n",
    "from random import shuffle\n",
    "\n",
    "def read_banknote_file(filename=\"datasets/data_banknote_authentication.csv\"):\n",
    "    x = []\n",
    "    y = []\n",
    "    \n",
    "    with open(filename) as csv_file:\n",
    "        csv_reader = csv.reader(csv_file)\n",
    "        for row in csv_reader:\n",
    "            x.append(list(map(float, row[:-1])))\n",
    "            y.append([int(row[-1])])\n",
    "\n",
    "    return x, y\n",
    "\n",
    "x, y = read_banknote_file()"
   ]
  },
  {
   "cell_type": "markdown",
   "metadata": {},
   "source": [
    "For this task we will split the dataset into a training dataset and test dataset, using the ratio 80/20. Before we do this, we will shuffle the data to randomize the order of the samples."
   ]
  },
  {
   "cell_type": "code",
   "execution_count": null,
   "metadata": {},
   "outputs": [],
   "source": [
    "def shuffle_data(x, y):\n",
    "    combined = list(zip(x, y))\n",
    "    shuffle(combined)\n",
    "    return zip(*combined)\n",
    "\n",
    "def split_data(x, y, train_ratio=0.8):\n",
    "    pivot = int(train_ratio * len(x))\n",
    "    return x[:pivot], x[pivot:], y[:pivot], y[pivot:]\n",
    "\n",
    "x, y = shuffle_data(x, y)\n",
    "\n",
    "x_train, x_test, y_train, y_test = split_data(x, y)    "
   ]
  },
  {
   "cell_type": "markdown",
   "metadata": {
    "collapsed": true
   },
   "source": [
    "Build and train our classifier **on the train data**:"
   ]
  },
  {
   "cell_type": "code",
   "execution_count": null,
   "metadata": {},
   "outputs": [],
   "source": [
    "svm = SVC(C=0.1, kernel='rbf', gamma=0.001)\n",
    "\n",
    "svm.fit(x_train, y_train)"
   ]
  },
  {
   "cell_type": "markdown",
   "metadata": {},
   "source": [
    "Now we will test the trained model on the **training** dataset AND the **test** dataset.\n",
    "\n",
    "Training dataset:"
   ]
  },
  {
   "cell_type": "code",
   "execution_count": null,
   "metadata": {},
   "outputs": [],
   "source": [
    "accuracy = svm.score(x_train, y_train)\n",
    "print('Model accuracy:',accuracy*100,'%')"
   ]
  },
  {
   "cell_type": "markdown",
   "metadata": {},
   "source": [
    "Test dataset:"
   ]
  },
  {
   "cell_type": "code",
   "execution_count": null,
   "metadata": {},
   "outputs": [],
   "source": [
    "accuracy = svm.score(x_test, y_test)\n",
    "print('Model accuracy:',accuracy*100,'%')"
   ]
  },
  {
   "cell_type": "markdown",
   "metadata": {},
   "source": [
    "Testing on the training dataset is generally considered bad practice as the network has already seen the data samples before. As a result, the accuracy of testing on the training dataset is almost always higher."
   ]
  },
  {
   "cell_type": "code",
   "execution_count": null,
   "metadata": {},
   "outputs": [],
   "source": [
    "from sklearn.model_selection import GridSearchCV\n",
    "from sklearn import svm\n",
    "\n",
    "\n",
    "#set up parameters to iterate over\n",
    "parameters = {'kernel':('linear', 'rbf'),\n",
    "                'C':[0.0001, 0.001, 0.01, 0.1, 1],\n",
    "                'gamma':[0.0001, 0.001, 0.01, 0.1, 1]\n",
    "              }\n",
    "\n",
    "clf = GridSearchCV(svm.SVC(), parameters)\n",
    "\n",
    "clf.fit(x, y) #iterate over all configurations\n",
    "\n",
    "print(\"Best parameters:\", clf.best_params_)"
   ]
  },
  {
   "cell_type": "code",
   "execution_count": null,
   "metadata": {},
   "outputs": [],
   "source": []
  }
 ],
 "metadata": {
  "kernelspec": {
   "display_name": "Python 3",
   "language": "python",
   "name": "python3"
  },
  "language_info": {
   "codemirror_mode": {
    "name": "ipython",
    "version": 3
   },
   "file_extension": ".py",
   "mimetype": "text/x-python",
   "name": "python",
   "nbconvert_exporter": "python",
   "pygments_lexer": "ipython3",
   "version": "3.7.6"
  }
 },
 "nbformat": 4,
 "nbformat_minor": 1
}
