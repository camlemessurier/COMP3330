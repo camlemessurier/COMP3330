{
 "cells": [
  {
   "cell_type": "markdown",
   "metadata": {},
   "source": [
    "# SVM - Iris Dataset"
   ]
  },
  {
   "cell_type": "markdown",
   "metadata": {},
   "source": [
    "The **Iris data set** consists of the petal and sepal length of 3 different types of irises (Setosa, Versicolour, and Virginica).\n",
    "\n",
    "In this task we are going to explore the dataset by looking at its data attributes and plotting the dataset to get an idea of how the three iris classes are separated."
   ]
  },
  {
   "cell_type": "code",
   "execution_count": 13,
   "metadata": {},
   "outputs": [],
   "source": [
    "import matplotlib.pyplot as plt\n",
    "import csv"
   ]
  },
  {
   "cell_type": "markdown",
   "metadata": {},
   "source": [
    "Firstly, we will load the data and print a sample of the sepal length and width data"
   ]
  },
  {
   "cell_type": "code",
   "execution_count": 14,
   "metadata": {},
   "outputs": [
    {
     "name": "stdout",
     "output_type": "stream",
     "text": [
      "Sepal length \t Sepal width \t Petal length \t Petal width \t Class\n",
      "6.4 \t\t 2.8 \t\t 5.6 \t\t 2.2 \t\t virginica\n",
      "5.0 \t\t 2.3 \t\t 3.3 \t\t 1.0 \t\t versicolor\n",
      "4.9 \t\t 2.5 \t\t 4.5 \t\t 1.7 \t\t virginica\n",
      "4.9 \t\t 3.1 \t\t 1.5 \t\t 0.1 \t\t virginica\n",
      "5.7 \t\t 3.8 \t\t 1.7 \t\t 0.3 \t\t virginica\n",
      "4.4 \t\t 3.2 \t\t 1.3 \t\t 0.2 \t\t virginica\n",
      "5.4 \t\t 3.4 \t\t 1.5 \t\t 0.4 \t\t virginica\n",
      "6.9 \t\t 3.1 \t\t 5.1 \t\t 2.3 \t\t virginica\n",
      "6.7 \t\t 3.1 \t\t 4.4 \t\t 1.4 \t\t versicolor\n",
      "5.1 \t\t 3.7 \t\t 1.5 \t\t 0.4 \t\t virginica\n",
      "5.2 \t\t 2.7 \t\t 3.9 \t\t 1.4 \t\t versicolor\n",
      "6.9 \t\t 3.1 \t\t 4.9 \t\t 1.5 \t\t versicolor\n",
      "5.8 \t\t 4.0 \t\t 1.2 \t\t 0.2 \t\t virginica\n",
      "5.4 \t\t 3.9 \t\t 1.7 \t\t 0.4 \t\t virginica\n",
      "7.7 \t\t 3.8 \t\t 6.7 \t\t 2.2 \t\t virginica\n",
      "6.3 \t\t 3.3 \t\t 4.7 \t\t 1.6 \t\t versicolor\n",
      "6.8 \t\t 3.2 \t\t 5.9 \t\t 2.3 \t\t virginica\n",
      "7.6 \t\t 3.0 \t\t 6.6 \t\t 2.1 \t\t virginica\n",
      "6.4 \t\t 3.2 \t\t 5.3 \t\t 2.3 \t\t virginica\n",
      "5.7 \t\t 4.4 \t\t 1.5 \t\t 0.4 \t\t virginica\n",
      "6.7 \t\t 3.3 \t\t 5.7 \t\t 2.1 \t\t virginica\n",
      "6.4 \t\t 2.8 \t\t 5.6 \t\t 2.1 \t\t virginica\n",
      "5.4 \t\t 3.9 \t\t 1.3 \t\t 0.4 \t\t virginica\n",
      "6.1 \t\t 2.6 \t\t 5.6 \t\t 1.4 \t\t virginica\n",
      "7.2 \t\t 3.0 \t\t 5.8 \t\t 1.6 \t\t virginica\n",
      "5.2 \t\t 3.5 \t\t 1.5 \t\t 0.2 \t\t virginica\n",
      "5.8 \t\t 2.6 \t\t 4.0 \t\t 1.2 \t\t versicolor\n",
      "5.9 \t\t 3.0 \t\t 5.1 \t\t 1.8 \t\t virginica\n",
      "5.4 \t\t 3.0 \t\t 4.5 \t\t 1.5 \t\t versicolor\n",
      "6.7 \t\t 3.0 \t\t 5.0 \t\t 1.7 \t\t versicolor\n",
      "6.3 \t\t 2.3 \t\t 4.4 \t\t 1.3 \t\t versicolor\n",
      "5.1 \t\t 2.5 \t\t 3.0 \t\t 1.1 \t\t versicolor\n",
      "6.4 \t\t 3.2 \t\t 4.5 \t\t 1.5 \t\t versicolor\n",
      "6.8 \t\t 3.0 \t\t 5.5 \t\t 2.1 \t\t virginica\n",
      "6.2 \t\t 2.8 \t\t 4.8 \t\t 1.8 \t\t virginica\n",
      "6.9 \t\t 3.2 \t\t 5.7 \t\t 2.3 \t\t virginica\n",
      "6.5 \t\t 3.2 \t\t 5.1 \t\t 2.0 \t\t virginica\n",
      "5.8 \t\t 2.8 \t\t 5.1 \t\t 2.4 \t\t virginica\n",
      "5.1 \t\t 3.8 \t\t 1.5 \t\t 0.3 \t\t virginica\n",
      "4.8 \t\t 3.0 \t\t 1.4 \t\t 0.3 \t\t virginica\n",
      "7.9 \t\t 3.8 \t\t 6.4 \t\t 2.0 \t\t virginica\n",
      "5.8 \t\t 2.7 \t\t 5.1 \t\t 1.9 \t\t virginica\n",
      "6.7 \t\t 3.0 \t\t 5.2 \t\t 2.3 \t\t virginica\n",
      "5.1 \t\t 3.8 \t\t 1.9 \t\t 0.4 \t\t virginica\n",
      "4.7 \t\t 3.2 \t\t 1.6 \t\t 0.2 \t\t virginica\n",
      "6.0 \t\t 2.2 \t\t 5.0 \t\t 1.5 \t\t virginica\n",
      "4.8 \t\t 3.4 \t\t 1.6 \t\t 0.2 \t\t virginica\n",
      "7.7 \t\t 2.6 \t\t 6.9 \t\t 2.3 \t\t virginica\n",
      "4.6 \t\t 3.6 \t\t 1.0 \t\t 0.2 \t\t virginica\n",
      "7.2 \t\t 3.2 \t\t 6.0 \t\t 1.8 \t\t virginica\n",
      "5.0 \t\t 3.3 \t\t 1.4 \t\t 0.2 \t\t virginica\n",
      "6.6 \t\t 3.0 \t\t 4.4 \t\t 1.4 \t\t versicolor\n",
      "6.1 \t\t 2.8 \t\t 4.0 \t\t 1.3 \t\t versicolor\n",
      "5.0 \t\t 3.2 \t\t 1.2 \t\t 0.2 \t\t virginica\n",
      "7.0 \t\t 3.2 \t\t 4.7 \t\t 1.4 \t\t versicolor\n",
      "6.0 \t\t 3.0 \t\t 4.8 \t\t 1.8 \t\t virginica\n",
      "7.4 \t\t 2.8 \t\t 6.1 \t\t 1.9 \t\t virginica\n",
      "5.8 \t\t 2.7 \t\t 5.1 \t\t 1.9 \t\t virginica\n",
      "6.2 \t\t 3.4 \t\t 5.4 \t\t 2.3 \t\t virginica\n",
      "5.0 \t\t 2.0 \t\t 3.5 \t\t 1.0 \t\t versicolor\n",
      "5.6 \t\t 2.5 \t\t 3.9 \t\t 1.1 \t\t versicolor\n",
      "6.7 \t\t 3.1 \t\t 5.6 \t\t 2.4 \t\t virginica\n",
      "6.3 \t\t 2.5 \t\t 5.0 \t\t 1.9 \t\t virginica\n",
      "6.4 \t\t 3.1 \t\t 5.5 \t\t 1.8 \t\t virginica\n",
      "6.2 \t\t 2.2 \t\t 4.5 \t\t 1.5 \t\t versicolor\n",
      "7.3 \t\t 2.9 \t\t 6.3 \t\t 1.8 \t\t virginica\n",
      "4.4 \t\t 3.0 \t\t 1.3 \t\t 0.2 \t\t virginica\n",
      "7.2 \t\t 3.6 \t\t 6.1 \t\t 2.5 \t\t virginica\n",
      "6.5 \t\t 3.0 \t\t 5.5 \t\t 1.8 \t\t virginica\n",
      "5.0 \t\t 3.4 \t\t 1.5 \t\t 0.2 \t\t virginica\n",
      "4.7 \t\t 3.2 \t\t 1.3 \t\t 0.2 \t\t virginica\n",
      "6.6 \t\t 2.9 \t\t 4.6 \t\t 1.3 \t\t versicolor\n",
      "5.5 \t\t 3.5 \t\t 1.3 \t\t 0.2 \t\t virginica\n",
      "7.7 \t\t 3.0 \t\t 6.1 \t\t 2.3 \t\t virginica\n",
      "6.1 \t\t 3.0 \t\t 4.9 \t\t 1.8 \t\t virginica\n",
      "4.9 \t\t 3.1 \t\t 1.5 \t\t 0.1 \t\t virginica\n",
      "5.5 \t\t 2.4 \t\t 3.8 \t\t 1.1 \t\t versicolor\n",
      "5.7 \t\t 2.9 \t\t 4.2 \t\t 1.3 \t\t versicolor\n",
      "6.0 \t\t 2.9 \t\t 4.5 \t\t 1.5 \t\t versicolor\n",
      "6.4 \t\t 2.7 \t\t 5.3 \t\t 1.9 \t\t virginica\n",
      "5.4 \t\t 3.7 \t\t 1.5 \t\t 0.2 \t\t virginica\n",
      "6.1 \t\t 2.9 \t\t 4.7 \t\t 1.4 \t\t versicolor\n",
      "6.5 \t\t 2.8 \t\t 4.6 \t\t 1.5 \t\t versicolor\n",
      "5.6 \t\t 2.7 \t\t 4.2 \t\t 1.3 \t\t versicolor\n",
      "6.3 \t\t 3.4 \t\t 5.6 \t\t 2.4 \t\t virginica\n",
      "4.9 \t\t 3.1 \t\t 1.5 \t\t 0.1 \t\t virginica\n",
      "6.8 \t\t 2.8 \t\t 4.8 \t\t 1.4 \t\t versicolor\n",
      "5.7 \t\t 2.8 \t\t 4.5 \t\t 1.3 \t\t versicolor\n",
      "6.0 \t\t 2.7 \t\t 5.1 \t\t 1.6 \t\t versicolor\n",
      "5.0 \t\t 3.5 \t\t 1.3 \t\t 0.3 \t\t virginica\n",
      "6.5 \t\t 3.0 \t\t 5.2 \t\t 2.0 \t\t virginica\n",
      "6.1 \t\t 2.8 \t\t 4.7 \t\t 1.2 \t\t versicolor\n",
      "5.1 \t\t 3.5 \t\t 1.4 \t\t 0.3 \t\t virginica\n",
      "4.6 \t\t 3.1 \t\t 1.5 \t\t 0.2 \t\t virginica\n",
      "6.5 \t\t 3.0 \t\t 5.8 \t\t 2.2 \t\t virginica\n",
      "4.6 \t\t 3.4 \t\t 1.4 \t\t 0.3 \t\t virginica\n",
      "4.6 \t\t 3.2 \t\t 1.4 \t\t 0.2 \t\t virginica\n",
      "7.7 \t\t 2.8 \t\t 6.7 \t\t 2.0 \t\t virginica\n",
      "5.9 \t\t 3.2 \t\t 4.8 \t\t 1.8 \t\t versicolor\n",
      "5.1 \t\t 3.8 \t\t 1.6 \t\t 0.2 \t\t virginica\n",
      "4.9 \t\t 3.0 \t\t 1.4 \t\t 0.2 \t\t virginica\n",
      "4.9 \t\t 2.4 \t\t 3.3 \t\t 1.0 \t\t versicolor\n",
      "4.5 \t\t 2.3 \t\t 1.3 \t\t 0.3 \t\t virginica\n",
      "5.8 \t\t 2.7 \t\t 4.1 \t\t 1.0 \t\t versicolor\n",
      "5.0 \t\t 3.4 \t\t 1.6 \t\t 0.4 \t\t virginica\n",
      "5.2 \t\t 3.4 \t\t 1.4 \t\t 0.2 \t\t virginica\n",
      "5.3 \t\t 3.7 \t\t 1.5 \t\t 0.2 \t\t virginica\n",
      "5.0 \t\t 3.6 \t\t 1.4 \t\t 0.2 \t\t virginica\n",
      "5.6 \t\t 2.9 \t\t 3.6 \t\t 1.3 \t\t versicolor\n",
      "4.8 \t\t 3.1 \t\t 1.6 \t\t 0.2 \t\t virginica\n",
      "6.3 \t\t 2.7 \t\t 4.9 \t\t 1.8 \t\t virginica\n",
      "5.7 \t\t 2.8 \t\t 4.1 \t\t 1.3 \t\t versicolor\n",
      "5.0 \t\t 3.0 \t\t 1.6 \t\t 0.2 \t\t virginica\n",
      "6.3 \t\t 3.3 \t\t 6.0 \t\t 2.5 \t\t virginica\n",
      "5.0 \t\t 3.5 \t\t 1.6 \t\t 0.6 \t\t virginica\n",
      "5.5 \t\t 2.6 \t\t 4.4 \t\t 1.2 \t\t versicolor\n",
      "5.7 \t\t 3.0 \t\t 4.2 \t\t 1.2 \t\t versicolor\n",
      "4.4 \t\t 2.9 \t\t 1.4 \t\t 0.2 \t\t virginica\n",
      "4.8 \t\t 3.0 \t\t 1.4 \t\t 0.1 \t\t virginica\n",
      "5.5 \t\t 2.4 \t\t 3.7 \t\t 1.0 \t\t versicolor\n"
     ]
    }
   ],
   "source": [
    "def read_iris_dataset(filename=\"./datasets/iris_training.csv\"):\n",
    "    x = []\n",
    "    y = []\n",
    "    with open(filename) as file:\n",
    "        reader = csv.reader(file)\n",
    "        next(reader)\n",
    "        for row in reader:\n",
    "            x.append(list(map(float,row[:-1])))\n",
    "            y.append(int(row[-1]))\n",
    "            \n",
    "    return x, y\n",
    "\n",
    "x, y = read_iris_dataset()\n",
    "labels = {0:'setosa',1:'versicolor',2:'virginica'}\n",
    "\n",
    "print (\"Sepal length\",\"\\t\",\"Sepal width\",\"\\t\",\"Petal length\",\"\\t\",\"Petal width\",\"\\t\",\"Class\")\n",
    "for d, t in zip(x, y):\n",
    "    print(d[0],\"\\t\\t\",d[1],\"\\t\\t\",d[2],\"\\t\\t\",d[3],\"\\t\\t\",labels[y[t]])"
   ]
  },
  {
   "cell_type": "code",
   "execution_count": 15,
   "metadata": {},
   "outputs": [],
   "source": [
    "colours = {0:'lightgreen', 1:'orange', 2:'skyblue'}\n",
    "\n",
    "colour_map = [colours[x] for x in y] #map all outputs to a colour for plotting\n",
    "\n",
    "def get_col(lst, col):\n",
    "    return [row[col] for row in lst]"
   ]
  },
  {
   "cell_type": "markdown",
   "metadata": {},
   "source": [
    "Now we will plot the sepal and petal data. To do this, we will plot the first two and last two columns of the dataset."
   ]
  },
  {
   "cell_type": "code",
   "execution_count": 16,
   "metadata": {
    "scrolled": false
   },
   "outputs": [
    {
     "data": {
      "text/plain": [
       "<Figure size 432x288 with 0 Axes>"
      ]
     },
     "metadata": {},
     "output_type": "display_data"
    },
    {
     "data": {
      "image/png": "[encoded data removed]",
      "text/plain": [
       "<Figure size 720x432 with 1 Axes>"
      ]
     },
     "metadata": {
      "needs_background": "light"
     },
     "output_type": "display_data"
    },
    {
     "data": {
      "text/plain": [
       "<Figure size 432x288 with 0 Axes>"
      ]
     },
     "metadata": {},
     "output_type": "display_data"
    },
    {
     "data": {
      "image/png": "[encoded data removed]",
      "text/plain": [
       "<Figure size 720x432 with 1 Axes>"
      ]
     },
     "metadata": {
      "needs_background": "light"
     },
     "output_type": "display_data"
    }
   ],
   "source": [
    "def plot_iris_data(x, y, colour_map, cls, title, xlabel, ylabel):\n",
    "    plt.clf()\n",
    "    plt.figure(2, figsize=(10, 6))\n",
    "    \n",
    "    plt.title(title)\n",
    "    plt.xlabel(xlabel)\n",
    "    plt.ylabel(ylabel)\n",
    "\n",
    "    # Plot the training points\n",
    "    for x_, y_, colour, c in zip(x, y, colour_map, cls):\n",
    "        plt.scatter(x_, y_, c=colour, label=labels[c])\n",
    "\n",
    "    handles, label = plt.gca().get_legend_handles_labels()\n",
    "    by_label = dict(zip(label, handles))\n",
    "    plt.legend(by_label.values(), by_label.keys())\n",
    "\n",
    "    plt.show()\n",
    "\n",
    "plot_iris_data(get_col(x, 0), get_col(x, 1), colour_map, y, \"Sepal data\", \"Sepal length\", \"Sepal width\")\n",
    "\n",
    "plot_iris_data(get_col(x, 2), get_col(x, 3), colour_map, y, \"Petal data\", \"Petal length\", \"Petal width\")"
   ]
  },
  {
   "cell_type": "markdown",
   "metadata": {},
   "source": []
  },
  {
   "cell_type": "code",
   "execution_count": 17,
   "metadata": {},
   "outputs": [],
   "source": [
    "#Build our classifier:\n",
    "\n",
    "from sklearn.svm import SVC\n",
    "svm = SVC(C=0.01, kernel='rbf', gamma=10)"
   ]
  },
  {
   "cell_type": "code",
   "execution_count": 18,
   "metadata": {},
   "outputs": [
    {
     "name": "stdout",
     "output_type": "stream",
     "text": [
      "Model accuracy: 63.33333333333333 %\n"
     ]
    }
   ],
   "source": [
    "#Fit to our data:\n",
    "svm.fit(x, y)\n",
    "\n",
    "#calculate accuracy\n",
    "accuracy = svm.score(x, y)\n",
    "print('Model accuracy:',accuracy*100,'%')"
   ]
  },
  {
   "cell_type": "markdown",
   "metadata": {},
   "source": [
    "A great way to visualise the quality of our model would be to plot all data points and colour them one colour if they were correctly classified and another colour if they were incorrectly classified.\n",
    "\n",
    "The light blue points represent correctly classified examples, where the red points represent misclassifications."
   ]
  },
  {
   "cell_type": "code",
   "execution_count": 19,
   "metadata": {},
   "outputs": [],
   "source": [
    "correct_classifications = [x == y for x, y in zip(svm.predict(x), y)]\n",
    "#print(correct_classifications)"
   ]
  },
  {
   "cell_type": "code",
   "execution_count": 20,
   "metadata": {},
   "outputs": [],
   "source": [
    "colours = {0:'red', 1:'skyblue'}\n",
    "\n",
    "colour_map = [colours[x] for x in correct_classifications] #map all outputs to a colour for plotting\n",
    "#print(colour_map)"
   ]
  },
  {
   "cell_type": "code",
   "execution_count": 21,
   "metadata": {},
   "outputs": [
    {
     "data": {
      "text/plain": [
       "<Figure size 432x288 with 0 Axes>"
      ]
     },
     "metadata": {},
     "output_type": "display_data"
    },
    {
     "data": {
      "image/png": "[encoded data removed]",
      "text/plain": [
       "<Figure size 720x432 with 1 Axes>"
      ]
     },
     "metadata": {
      "needs_background": "light"
     },
     "output_type": "display_data"
    },
    {
     "data": {
      "text/plain": [
       "<Figure size 432x288 with 0 Axes>"
      ]
     },
     "metadata": {},
     "output_type": "display_data"
    },
    {
     "data": {
      "image/png": "[encoded data removed]",
      "text/plain": [
       "<Figure size 720x432 with 1 Axes>"
      ]
     },
     "metadata": {
      "needs_background": "light"
     },
     "output_type": "display_data"
    }
   ],
   "source": [
    "def get_col(lst, col):\n",
    "    return [row[col] for row in lst]\n",
    "\n",
    "def plot_iris_data(x, y, colours, title, xlabel, ylabel):\n",
    "    plt.clf()\n",
    "    plt.figure(2, figsize=(10, 6))\n",
    "\n",
    "    plt.title(title)\n",
    "    plt.xlabel(xlabel)\n",
    "    plt.ylabel(ylabel)\n",
    "\n",
    "    # Plot the training points\n",
    "    for x_, y_, c in zip(x, y, colours):\n",
    "        plt.scatter(x_, y_, c=c)\n",
    "\n",
    "    plt.show()\n",
    "\n",
    "plot_iris_data(get_col(x, 0), get_col(x, 1), colour_map, \"Sepal data\", \"Sepal length\", \"Sepal width\")\n",
    "\n",
    "plot_iris_data(get_col(x, 2), get_col(x, 3), colour_map, \"Petal data\", \"Petal length\", \"Petal width\")"
   ]
  },
  {
   "cell_type": "markdown",
   "metadata": {},
   "source": [
    "## Grid Search\n",
    "A key challenge in machine learning with SVMs is to choose suitable classifier parameters (e.g. “C“ and “gamma“) that maximize the classifier’s success rate. One method of finding these optimal parameters isto perform a search over a range of acceptable parameters. While this is not always a fast solution, it is often better than simply randomly selecting parameters or using the default parameters of a toolbox."
   ]
  },
  {
   "cell_type": "code",
   "execution_count": 22,
   "metadata": {},
   "outputs": [
    {
     "name": "stdout",
     "output_type": "stream",
     "text": [
      "Best parameters: {'C': 1, 'gamma': 0.0001, 'kernel': 'linear'}\n"
     ]
    }
   ],
   "source": [
    "from sklearn.model_selection import GridSearchCV\n",
    "from sklearn import svm\n",
    "\n",
    "#set up parameters to iterate over\n",
    "parameters = {'kernel':('linear', 'rbf'),\n",
    "                'C':[0.0001, 0.001, 0.01, 0.1, 1],\n",
    "                'gamma':[0.0001, 0.001, 0.01, 0.1, 1]\n",
    "              }\n",
    "\n",
    "clf = GridSearchCV(svm.SVC(), parameters)\n",
    "\n",
    "clf.fit(x, y) #iterate over all configurations\n",
    "\n",
    "print(\"Best parameters:\", clf.best_params_)"
   ]
  },
  {
   "cell_type": "code",
   "execution_count": 23,
   "metadata": {},
   "outputs": [
    {
     "name": "stdout",
     "output_type": "stream",
     "text": [
      "Model accuracy: 98.33333333333333 %\n"
     ]
    }
   ],
   "source": [
    "svm = SVC(C=1, kernel='linear', gamma=0.0001)\n",
    "\n",
    "svm.fit(x, y)\n",
    "\n",
    "accuracy = svm.score(x, y)\n",
    "print('Model accuracy:',accuracy*100,'%')"
   ]
  },
  {
   "cell_type": "code",
   "execution_count": 24,
   "metadata": {},
   "outputs": [
    {
     "data": {
      "text/plain": [
       "<Figure size 432x288 with 0 Axes>"
      ]
     },
     "metadata": {},
     "output_type": "display_data"
    },
    {
     "data": {
      "image/png": "[encoded data removed]",
      "text/plain": [
       "<Figure size 720x432 with 1 Axes>"
      ]
     },
     "metadata": {
      "needs_background": "light"
     },
     "output_type": "display_data"
    },
    {
     "data": {
      "text/plain": [
       "<Figure size 432x288 with 0 Axes>"
      ]
     },
     "metadata": {},
     "output_type": "display_data"
    },
    {
     "data": {
      "image/png": "[encoded data removed]",
      "text/plain": [
       "<Figure size 720x432 with 1 Axes>"
      ]
     },
     "metadata": {
      "needs_background": "light"
     },
     "output_type": "display_data"
    }
   ],
   "source": [
    "correct_classifications = [x == y for x, y in zip(svm.predict(x), y)]\n",
    "#print(correct_classifications)\n",
    "colours = {0:'red', 1:'skyblue'}\n",
    "\n",
    "colour_map = [colours[x] for x in correct_classifications] #map all outputs to a colour for plotting\n",
    "\n",
    "plot_iris_data(get_col(x, 0), get_col(x, 1), colour_map, \"Sepal data\", \"Sepal length\", \"Sepal width\")\n",
    "\n",
    "plot_iris_data(get_col(x, 2), get_col(x, 3), colour_map, \"Petal data\", \"Petal length\", \"Petal width\")"
   ]
  },
  {
   "cell_type": "code",
   "execution_count": null,
   "metadata": {},
   "outputs": [],
   "source": []
  }
 ],
 "metadata": {
  "kernelspec": {
   "display_name": "Python 3",
   "language": "python",
   "name": "python3"
  },
  "language_info": {
   "codemirror_mode": {
    "name": "ipython",
    "version": 3
   },
   "file_extension": ".py",
   "mimetype": "text/x-python",
   "name": "python",
   "nbconvert_exporter": "python",
   "pygments_lexer": "ipython3",
   "version": "3.8.2"
  }
 },
 "nbformat": 4,
 "nbformat_minor": 1
}