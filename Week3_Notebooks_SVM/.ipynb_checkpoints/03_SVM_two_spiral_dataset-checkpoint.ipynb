{
 "cells": [
  {
   "cell_type": "markdown",
   "metadata": {},
   "source": [
    "# SVM - Two Spiral Dataset"
   ]
  },
  {
   "cell_type": "markdown",
   "metadata": {},
   "source": [
    "Now we will look at classifying the two-spiral dataset with a SVM.\n",
    "\n",
    "![alt text](images/two_spiral.png \"Two Spiral Dataset\")\n"
   ]
  },
  {
   "cell_type": "markdown",
   "metadata": {},
   "source": [
    "Instead of generating the dataset, we will read it from a file that takes the following form:\n",
    "\n",
    "|    x   |    y   | class |\n",
    "|:------:|:------:|:-----:|\n",
    "|  -6.5  |   0.0  |   0   |\n",
    "|  -6.5  |  -0.0  |   1   |\n",
    "|  6.314 |  1.256 |   0   |\n",
    "| -6.314 | -1.256 |   1   |\n",
    "|   ...  |   ...  |  ...  |"
   ]
  },
  {
   "cell_type": "code",
   "execution_count": 17,
   "metadata": {},
   "outputs": [],
   "source": [
    "import csv\n",
    "import numpy as np\n",
    "from sklearn.svm import SVC\n",
    "from numpy import arange, round, meshgrid, resize\n",
    "import matplotlib.pyplot as plt\n",
    "\n",
    "def read_two_spiral_file(filename=\"datasets/spiralsdataset.csv\"):\n",
    "    x = []\n",
    "    y = []\n",
    "    \n",
    "    with open(filename) as csv_file:\n",
    "        csv_reader = csv.reader(csv_file)\n",
    "        for row in csv_reader:\n",
    "            x.append(list(map(float, row[:-1])))\n",
    "            y.append([int(v) for v in row[-1:]])\n",
    "\n",
    "    return np.array(x), np.array(y)\n",
    "\n",
    "x, y = read_two_spiral_file()"
   ]
  },
  {
   "cell_type": "markdown",
   "metadata": {},
   "source": [
    "Build our classifier:"
   ]
  },
  {
   "cell_type": "code",
   "execution_count": 14,
   "metadata": {},
   "outputs": [],
   "source": [
    "svm = SVC(C=0.3, kernel='rbf', gamma=0.3)"
   ]
  },
  {
   "cell_type": "markdown",
   "metadata": {},
   "source": [
    "Fit to our data:"
   ]
  },
  {
   "cell_type": "code",
   "execution_count": 15,
   "metadata": {},
   "outputs": [
    {
     "data": {
      "text/plain": [
       "SVC(C=0.2, gamma=0.3)"
      ]
     },
     "execution_count": 15,
     "metadata": {},
     "output_type": "execute_result"
    }
   ],
   "source": [
    "svm.fit(x, y[:, 0])"
   ]
  },
  {
   "cell_type": "markdown",
   "metadata": {},
   "source": [
    "In other examples it makes sense to test the trained model on the training dataset and display the predictions alongside the targets. For this dataset, it makes more sense to display our results visually. We are going to construct our own test set of coordinates, activate on each coordinate, and then display the activations."
   ]
  },
  {
   "cell_type": "code",
   "execution_count": 16,
   "metadata": {},
   "outputs": [
    {
     "data": {
      "image/png": "[encoded data removed]",
      "text/plain": [
       "<Figure size 432x288 with 1 Axes>"
      ]
     },
     "metadata": {
      "needs_background": "light"
     },
     "output_type": "display_data"
    }
   ],
   "source": [
    "# Visualise activations\n",
    "activation_range = arange(-6,6,0.1) # interval of [-6,6) with step size 0.1\n",
    "coordinates = [(x,y) for x in activation_range for y in activation_range]\n",
    "classifications = svm.predict(coordinates)\n",
    "x, y = meshgrid(activation_range, activation_range)\n",
    "plt.scatter(x, y, c=['b' if x > 0 else 'y' for x in classifications])\n",
    "plt.show()"
   ]
  },
  {
   "cell_type": "markdown",
   "metadata": {
    "collapsed": true
   },
   "source": [
    "A good result is to have two, well separated, spirals. Play around with the SVM parameters to increase accuracy."
   ]
  },
  {
   "cell_type": "code",
   "execution_count": null,
   "metadata": {},
   "outputs": [],
   "source": []
  },
  {
   "cell_type": "code",
   "execution_count": null,
   "metadata": {},
   "outputs": [],
   "source": []
  }
 ],
 "metadata": {
  "kernelspec": {
   "display_name": "Python 3",
   "language": "python",
   "name": "python3"
  },
  "language_info": {
   "codemirror_mode": {
    "name": "ipython",
    "version": 3
   },
   "file_extension": ".py",
   "mimetype": "text/x-python",
   "name": "python",
   "nbconvert_exporter": "python",
   "pygments_lexer": "ipython3",
   "version": "3.8.2"
  }
 },
 "nbformat": 4,
 "nbformat_minor": 1
}
