{
 "cells": [
  {
   "cell_type": "markdown",
   "metadata": {},
   "source": [
    "# SVM Introduction"
   ]
  },
  {
   "cell_type": "markdown",
   "metadata": {},
   "source": [
    "Prior to this example we have looked at a number of ways of constructing neural network models. To construct and train Support Vector Machines, we will use the scikit-learn library -- a leading Python machine learning library.\n",
    "\n",
    "This basic example will look at using the library to train a SVM on the XOR task."
   ]
  },
  {
   "cell_type": "code",
   "execution_count": 1,
   "metadata": {},
   "outputs": [],
   "source": [
    "from sklearn.svm import SVC\n",
    "\n",
    "# Create dataset\n",
    "x = [[0,0],\n",
    "        [0,1],\n",
    "        [1,0],\n",
    "        [1,1]]\n",
    "\n",
    "y = [0, 1, 1, 0] #sklearn prefers one-dimensional output lists"
   ]
  },
  {
   "cell_type": "markdown",
   "metadata": {},
   "source": [
    "Next we will construct a C-SVM model. We can pass in a number of parameters. The C, kernel, and gamma parameters are of most interest to us, however many more exist and can be found here:\n",
    "\n",
    "http://scikit-learn.org/stable/modules/generated/sklearn.svm.SVC.html\n",
    "\n",
    "**Kernel options: ‘linear’, ‘poly’, ‘rbf’, ‘sigmoid’, ‘precomputed’**"
   ]
  },
  {
   "cell_type": "code",
   "execution_count": 2,
   "metadata": {},
   "outputs": [],
   "source": [
    "#svm = SVC()\n",
    "\n",
    "svm = SVC(C=1.0, kernel='rbf', gamma=0.25)"
   ]
  },
  {
   "cell_type": "markdown",
   "metadata": {},
   "source": [
    "Now we will train our classifier to our data using sklearn's simple .fit() function."
   ]
  },
  {
   "cell_type": "code",
   "execution_count": 3,
   "metadata": {},
   "outputs": [
    {
     "data": {
      "text/plain": [
       "SVC(gamma=0.25)"
      ]
     },
     "execution_count": 3,
     "metadata": {},
     "output_type": "execute_result"
    }
   ],
   "source": [
    "svm.fit(x, y)"
   ]
  },
  {
   "cell_type": "markdown",
   "metadata": {},
   "source": [
    "Done! Finally, we can generate predictions for all data samples and then display them against the expected values."
   ]
  },
  {
   "cell_type": "code",
   "execution_count": 4,
   "metadata": {},
   "outputs": [
    {
     "name": "stdout",
     "output_type": "stream",
     "text": [
      "input [0, 0] target 0 prediction 0\n",
      "input [0, 1] target 1 prediction 1\n",
      "input [1, 0] target 1 prediction 1\n",
      "input [1, 1] target 0 prediction 0\n"
     ]
    }
   ],
   "source": [
    "predictions = svm.predict(x)\n",
    "\n",
    "# Display predictions\n",
    "for input, target, prediction in zip(x, y, predictions):\n",
    "    print(\"input\",input,\"target\",target,\"prediction\",prediction)"
   ]
  },
  {
   "cell_type": "code",
   "execution_count": null,
   "metadata": {},
   "outputs": [],
   "source": []
  },
  {
   "cell_type": "code",
   "execution_count": null,
   "metadata": {},
   "outputs": [],
   "source": []
  }
 ],
 "metadata": {
  "kernelspec": {
   "display_name": "Python 3",
   "language": "python",
   "name": "python3"
  },
  "language_info": {
   "codemirror_mode": {
    "name": "ipython",
    "version": 3
   },
   "file_extension": ".py",
   "mimetype": "text/x-python",
   "name": "python",
   "nbconvert_exporter": "python",
   "pygments_lexer": "ipython3",
   "version": "3.8.2"
  }
 },
 "nbformat": 4,
 "nbformat_minor": 1
}
