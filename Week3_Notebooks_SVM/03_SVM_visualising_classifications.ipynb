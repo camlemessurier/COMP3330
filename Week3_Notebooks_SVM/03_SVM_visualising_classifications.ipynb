{
 "cells": [
  {
   "cell_type": "markdown",
   "metadata": {},
   "source": [
    "# SVM - Visualising Classifications"
   ]
  },
  {
   "cell_type": "code",
   "execution_count": null,
   "metadata": {},
   "outputs": [],
   "source": [
    "import csv\n",
    "from sklearn import svm\n",
    "import numpy as np\n",
    "from sklearn.metrics import classification_report\n",
    "import matplotlib.pyplot as plt\n",
    "\n",
    "def from_csv(filename, newline='', delimiter=','):\n",
    "    x = []\n",
    "    y = []\n",
    "\n",
    "    with open(filename, newline=newline) as csv_file:\n",
    "        csv_reader = csv.reader(csv_file, delimiter=delimiter)\n",
    "        for row in csv_reader:\n",
    "            x.append(list(map(float, row[:-1])))\n",
    "            y.append(int(row[-1]))\n",
    "\n",
    "    return x, y\n",
    "\n",
    "def activate_over_xy():\n",
    "    x_range = np.arange(-10, 10, 0.2)\n",
    "    y_range = np.arange(-10, 10, 0.2)\n",
    "    x, y = np.meshgrid(x_range, y_range)\n",
    "    xy = np.array([x.flatten(), y.flatten()]).T\n",
    "    predictions = clf.predict(xy)\n",
    "    colours = {0: 'y', 1: 'b'}\n",
    "    z = list(map(colours.get, predictions))\n",
    "    plt.scatter(x, y, c=z)\n",
    "    return plt\n",
    "\n",
    "x, y = from_csv(\"datasets/smile.csv\")\n",
    "\n",
    "clf = svm.SVC(C=1, gamma='auto', kernel='rbf')\n",
    "\n",
    "clf.fit(x, y)\n",
    "\n",
    "plt = activate_over_xy()\n",
    "\n",
    "plt.show()"
   ]
  },
  {
   "cell_type": "code",
   "execution_count": null,
   "metadata": {},
   "outputs": [],
   "source": []
  }
 ],
 "metadata": {
  "kernelspec": {
   "display_name": "Python 3",
   "language": "python",
   "name": "python3"
  },
  "language_info": {
   "codemirror_mode": {
    "name": "ipython",
    "version": 3
   },
   "file_extension": ".py",
   "mimetype": "text/x-python",
   "name": "python",
   "nbconvert_exporter": "python",
   "pygments_lexer": "ipython3",
   "version": "3.5.2"
  }
 },
 "nbformat": 4,
 "nbformat_minor": 1
}
