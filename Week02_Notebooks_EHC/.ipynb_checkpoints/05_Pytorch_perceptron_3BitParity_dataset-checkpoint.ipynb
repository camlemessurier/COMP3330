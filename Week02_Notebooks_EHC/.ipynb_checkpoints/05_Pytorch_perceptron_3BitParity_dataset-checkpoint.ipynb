{
 "cells": [
  {
   "cell_type": "markdown",
   "metadata": {},
   "source": [
    "# Multilayer Perceptron (Pytorch - XOR Dataset)"
   ]
  },
  {
   "cell_type": "markdown",
   "metadata": {},
   "source": [
    "In this example we will look at building a multilayerd neural network with Pytorch to perform classification on the XOR function dataset."
   ]
  },
  {
   "cell_type": "markdown",
   "metadata": {},
   "source": [
    "First, we will import the necessary libraries and then construct the dataset. \n",
    "\n",
    "\n",
    "| a | b | a XOR b |\n",
    "|:-:|:-:|:-------:|\n",
    "| 0 | 0 |    0    |\n",
    "| 0 | 1 |    1    |\n",
    "| 1 | 0 |    1    |\n",
    "| 1 | 1 |    0    |\n",
    "\n",
    "We will split the dataset into the inputs (a, b) and the target (a XOR b), making things easier for training and testing the network. In this example we are using standard Python lists but we could just as easily use Numpy arrays."
   ]
  },
  {
   "cell_type": "code",
   "execution_count": 77,
   "metadata": {},
   "outputs": [],
   "source": [
    "# Import libraries\n",
    "import torch\n",
    "import torch.nn as nn\n",
    "import torch.optim as optim\n",
    "import matplotlib.pyplot as plt\n",
    "\n",
    "# Create dataset\n",
    "data = torch.tensor([\n",
    "    [0, 0],\n",
    "    [0, 1],\n",
    "    [1, 0],\n",
    "    [1, 1]\n",
    "    ], dtype=torch.float32, requires_grad=True)\n",
    "\n",
    "labels = torch.tensor([0,1,1,0], dtype=torch.float32, requires_grad=False)"
   ]
  },
  {
   "cell_type": "markdown",
   "metadata": {},
   "source": [
    "Now we will construct the neural network model. We are going to use a neural network with one hidden layer (therefore two layers of weights). We will use one output unit, capable of representing our two classes.\n"
   ]
  },
  {
   "cell_type": "code",
   "execution_count": 78,
   "metadata": {},
   "outputs": [],
   "source": [
    "# Create first layer weights\n",
    "weights_layer_0 = torch.randn([2,2], dtype=torch.float32, requires_grad=True)\n",
    "bias_layer_0 = torch.randn([2], dtype=torch.float32, requires_grad=True)\n",
    "\n",
    "# Create second layer weights\n",
    "weights_layer_1 = torch.randn([2, 1], dtype=torch.float32, requires_grad=True)\n",
    "bias_layer_1 = torch.randn([1], dtype=torch.float32, requires_grad=True)"
   ]
  },
  {
   "cell_type": "markdown",
   "metadata": {},
   "source": [
    "Now we will define the error function and optimizer. For the error function we will use a standard mean squared error function, and for the optimizer we will use a gradient descent algorithm with a learning rate of 0.1. We will also set the optimizer's task to be to minimize the cost."
   ]
  },
  {
   "cell_type": "code",
   "execution_count": 79,
   "metadata": {},
   "outputs": [],
   "source": [
    "losses = []\n",
    "eta = 0.005\n",
    "# Define error function\n",
    "def loss_ff (y,out):\n",
    "    loss = (out-y).pow(2)\n",
    "    return loss\n",
    "\n",
    "loss_f = nn.MSELoss()\n",
    "\n",
    "# Define optimizer and its task (minimise error function)\n",
    "optimizer = optim.SGD((weights_layer_0, weights_layer_1,bias_layer_0 ,bias_layer_1) , lr = eta)\n",
    "\n",
    "# Define two activation function\n",
    "sig = nn.Sigmoid()\n",
    "relu = nn.ReLU ()"
   ]
  },
  {
   "cell_type": "markdown",
   "metadata": {},
   "source": [
    "Finally, we can train the network. This involves feeding in the dataset we created earlier, and running the optimizer for a set number of epochs."
   ]
  },
  {
   "cell_type": "code",
   "execution_count": 80,
   "metadata": {},
   "outputs": [],
   "source": [
    "epochs = 20000\n",
    "for epoch in range(epochs):\n",
    "    total_loss = 0\n",
    "    for idx in range(4):\n",
    "        # take current input\n",
    "        optimizer.zero_grad()\n",
    "        X = data[idx,:]\n",
    "        X = torch.unsqueeze(X,0)\n",
    "        y = labels[idx]\n",
    "        pred = torch.add(torch.mm(X, weights_layer_0), bias_layer_0)\n",
    "        pred = sig(pred)\n",
    "        \n",
    "        pred = torch.add(torch.mm(pred, weights_layer_1), bias_layer_1)\n",
    "        pred = sig(pred)\n",
    "\n",
    "        loss = loss_ff (y,pred[0])\n",
    "        # compute output and loss\n",
    "        total_loss += loss.item()\n",
    "        # backpropagation\n",
    "        loss.backward()\n",
    "        optimizer.step()\n",
    "\n",
    "#         compute accuracy and update parameters\n",
    "        with torch.no_grad():\n",
    "             weights_layer_0 -= eta * weights_layer_0.grad\n",
    "             bias_layer_0 -= eta * bias_layer_0\n",
    "             weights_layer_1 -= eta * weights_layer_1.grad\n",
    "             bias_layer_1 -= eta * bias_layer_1\n",
    "             # reset gradient to zero\n",
    "             weights_layer_0.grad.zero_()\n",
    "             bias_layer_0.grad.zero_()\n",
    "             weights_layer_1.grad.zero_()\n",
    "             bias_layer_1.grad.zero_()\n",
    "    losses.append(total_loss)"
   ]
  },
  {
   "cell_type": "markdown",
   "metadata": {},
   "source": [
    "Now that training has finished, we can activate the trained model on the original dataset and compare its output with the target. Note that it is generally bad practice to test a model on training data, however this makes sense for this example."
   ]
  },
  {
   "cell_type": "code",
   "execution_count": 81,
   "metadata": {},
   "outputs": [
    {
     "name": "stdout",
     "output_type": "stream",
     "text": [
      "pred tensor([0.], grad_fn=<RoundBackward>)\n",
      "Pred:\t 0\n",
      "Output:\t 0\n",
      "#####\n",
      "pred tensor([0.], grad_fn=<RoundBackward>)\n",
      "Pred:\t 0\n",
      "Output:\t 1\n",
      "#####\n",
      "pred tensor([1.], grad_fn=<RoundBackward>)\n",
      "Pred:\t 1\n",
      "Output:\t 1\n",
      "#####\n",
      "pred tensor([0.], grad_fn=<RoundBackward>)\n",
      "Pred:\t 0\n",
      "Output:\t 0\n",
      "#####\n"
     ]
    },
    {
     "data": {
      "image/png": "[encoded data removed]",
      "text/plain": [
       "<Figure size 432x288 with 1 Axes>"
      ]
     },
     "metadata": {
      "needs_background": "light"
     },
     "output_type": "display_data"
    }
   ],
   "source": [
    "for _x, _y in zip(data,labels):\n",
    "    _x = torch.unsqueeze(_x,0)\n",
    "    pred = torch.add(torch.mm(_x, weights_layer_0), bias_layer_0)\n",
    "    pred = sig(pred)\n",
    "        \n",
    "    pred = torch.add(torch.mm(pred, weights_layer_1), bias_layer_1)\n",
    "    pred = sig(pred[0])\n",
    "    # pred = pred.max(1)\n",
    "    loss = loss_ff (_y,pred)\n",
    "    print ('pred', torch.round(pred))\n",
    "    # pred = torch.add(torch.dot(weights, _x), bias)\n",
    "#    print ('Input:\\t', list(map(int,_x)))\n",
    "    print ('Pred:\\t', int(torch.round(pred)))\n",
    "    print ('Output:\\t', int(_y))\n",
    "    print ('#####')\n",
    "    \n",
    "plt.plot(losses)\n",
    "plt.xlabel(\"Iteration\")\n",
    "plt.ylabel(\"Average error\")\n",
    "plt.show()"
   ]
  },
  {
   "cell_type": "code",
   "execution_count": null,
   "metadata": {},
   "outputs": [],
   "source": []
  },
  {
   "cell_type": "code",
   "execution_count": null,
   "metadata": {},
   "outputs": [],
   "source": []
  }
 ],
 "metadata": {
  "kernelspec": {
   "display_name": "Python 3",
   "language": "python",
   "name": "python3"
  },
  "language_info": {
   "codemirror_mode": {
    "name": "ipython",
    "version": 3
   },
   "file_extension": ".py",
   "mimetype": "text/x-python",
   "name": "python",
   "nbconvert_exporter": "python",
   "pygments_lexer": "ipython3",
   "version": "3.8.2"
  }
 },
 "nbformat": 4,
 "nbformat_minor": 4
}
