{
 "cells": [
  {
   "cell_type": "markdown",
   "metadata": {},
   "source": [
    "# Evolutionary Hill Climbing (EHC) algorithm (AND Dataset)"
   ]
  },
  {
   "cell_type": "markdown",
   "metadata": {},
   "source": [
    "Now we will look at an end-to-end neural network training example, using the Evolutionary Hill Climbing (EHC) algorithm discussed in lectures.\n",
    "\n",
    "AND function dataset:\n",
    "\n",
    "| A | B | A AND B |\n",
    "|---|---|---------|\n",
    "| 0 | 0 | 0       |\n",
    "| 0 | 1 | 0       |\n",
    "| 1 | 0 | 0       |\n",
    "| 1 | 1 | 1       |"
   ]
  },
  {
   "cell_type": "markdown",
   "metadata": {},
   "source": [
    "Firstly we will create our input (x) dataset using Numpy arrays. Next we will append a 1 to the front of each input (x) sample, representing our bias input. Finally we will create our output (y) dataset."
   ]
  },
  {
   "cell_type": "code",
   "execution_count": 1,
   "metadata": {},
   "outputs": [],
   "source": [
    "import numpy as np\n",
    "from collections import defaultdict\n",
    "import matplotlib.pyplot as plt\n",
    "\n",
    "# define input data\n",
    "x = np.array([\n",
    "    [0, 0],\n",
    "    [0, 1],\n",
    "    [1, 0],\n",
    "    [1, 1],\n",
    "])\n",
    "\n",
    "# append bias\n",
    "x = [np.append(1, x) for x in x]  \n",
    "\n",
    "# define target data\n",
    "y = np.array([[0, 0, 0, 1]]).T"
   ]
  },
  {
   "cell_type": "markdown",
   "metadata": {},
   "source": [
    "Now we will define our network's structure using a *connectivity matrix*. It is easiest to read this matrix column-by-column, where each 1 in a column represents a node that the current node maps to.\n",
    "\n",
    "For example, the following matrix represents a simple 3-node network where two input nodes map to the output node. We will use this network, and add one bias unit.\n",
    "\n",
    "|         | input_0 | input_1 | output |\n",
    "|---------|---------|---------|--------|\n",
    "| input_0 | 0       | 0       | 0      |\n",
    "| input_1 | 0       | 0       | 0      |\n",
    "| output  | 1       | 1       | 0      |\n",
    "\n",
    "Represented visually:\n",
    "\n",
    "![alt text](images/nn_1.png \"Neural Network Model\")"
   ]
  },
  {
   "cell_type": "code",
   "execution_count": 2,
   "metadata": {},
   "outputs": [],
   "source": [
    "node_labels = ['bias', 'input_0', 'input_1', 'output']\n",
    "\n",
    "# connectivity matrix of network\n",
    "network_matrix = np.array([\n",
    "    [0, 0, 0, 0], #bias\n",
    "    [0, 0, 0, 0], #input_0\n",
    "    [0, 0, 0, 0], #input_1\n",
    "    [1, 1, 1, 0], #output\n",
    "])"
   ]
  },
  {
   "cell_type": "markdown",
   "metadata": {},
   "source": [
    "Next we will transform this matrix into an adjacency list, which will make our calculations easier to perform (we are not concerned with zeros in the above matrix). "
   ]
  },
  {
   "cell_type": "code",
   "execution_count": 3,
   "metadata": {},
   "outputs": [
    {
     "name": "stdout",
     "output_type": "stream",
     "text": [
      "Node: output Incoming nodes: ['bias', 'input_0', 'input_1']\n"
     ]
    }
   ],
   "source": [
    "def generate_adjacency_list():\n",
    "    rows, cols = np.nonzero(network_matrix) # get locations of non-zero elements of network matrix (ie connections)\n",
    "    d = defaultdict(list)\n",
    "    [d[row].append(col) for row, col in zip(rows, cols)] # build dictionary mapping a node to all incoming connections\n",
    "\n",
    "    return d\n",
    "\n",
    "network_list = generate_adjacency_list()\n",
    "\n",
    "# print adjacency list\n",
    "for node, incoming_nodes in network_list.items():\n",
    "    print(\"Node:\",node_labels[node],\"Incoming nodes:\",[node_labels[k] for k in incoming_nodes])"
   ]
  },
  {
   "cell_type": "markdown",
   "metadata": {},
   "source": [
    "The next step is to generate random weights for each connection in the matrix. To do this, we will create a new matrix of the same size as the connectivity matrix and replace any connections with random numbers."
   ]
  },
  {
   "cell_type": "code",
   "execution_count": 4,
   "metadata": {},
   "outputs": [
    {
     "name": "stdout",
     "output_type": "stream",
     "text": [
      "[[ 0.     0.     0.     0.   ]\n",
      " [ 0.     0.     0.     0.   ]\n",
      " [ 0.     0.     0.     0.   ]\n",
      " [-1.343  0.557 -1.356  0.   ]]\n"
     ]
    }
   ],
   "source": [
    "def generate_random_weights():\n",
    "    weights = np.zeros(network_matrix.shape)\n",
    "    for row, columns in network_list.items(): \n",
    "        for column in columns: # for all edges in network\n",
    "            weights[row][column] = np.random.normal() # set weight of edge to random value\n",
    "\n",
    "    return weights\n",
    "\n",
    "weights = generate_random_weights()\n",
    "\n",
    "# print weights matrix\n",
    "print(np.round(weights,3))"
   ]
  },
  {
   "cell_type": "markdown",
   "metadata": {},
   "source": [
    "Now we want to *evaluate* the network with the current random weights. Will will use root-mean-squared-error as our error function and sigmoid as our activation function."
   ]
  },
  {
   "cell_type": "code",
   "execution_count": 5,
   "metadata": {},
   "outputs": [],
   "source": [
    "def activate(x, a=1, b=0):\n",
    "    return 1 / (1 + np.exp(-a * x - b))  # sigmoid function\n",
    "\n",
    "def predict(x, weights):\n",
    "    node_values = x # current node values (as we are evaluating nodes in order)\n",
    "    for row, columns in network_list.items(): # for all nodes in network\n",
    "        node_value = 0\n",
    "        for column in columns: # for all edges in network\n",
    "            node_value += weights[row][column] * node_values[column] # sum the product of the incoming connections with the from node's value\n",
    "        node_values = np.append(node_values, activate(node_value))\n",
    "\n",
    "    return node_values[-1]\n",
    "\n",
    "def evaluate(x, y, weights):\n",
    "    sum_squared_error = 0\n",
    "    for x_sample, y_sample in zip(x, y): # for each sample in dataset\n",
    "        prediction = predict(x_sample, weights) # get prediction\n",
    "        error = y_sample - prediction # calculate error margin (difference between expected and predicted values)\n",
    "        sum_squared_error += np.power(error, 2) # square error\n",
    "    return np.sqrt(sum_squared_error) # return root mean squared error\n",
    "\n",
    "error = evaluate(x, y, weights)"
   ]
  },
  {
   "cell_type": "markdown",
   "metadata": {},
   "source": [
    "Before we begin training our network, we need to determine how we will mutate the weights in the network. Given a step amount, the following function will add \n",
    "\n",
    "$step\\_amount * random\\_number $\n",
    "\n",
    "to each weight."
   ]
  },
  {
   "cell_type": "code",
   "execution_count": 6,
   "metadata": {},
   "outputs": [],
   "source": [
    "def mutate(weights, step_amount):\n",
    "    weights_mutated = weights.copy()\n",
    "    for row, columns in network_list.items(): # for all nodes in network\n",
    "        for column in columns: # for all edges in network\n",
    "            weights_mutated[row][column] += step_amount * np.random.normal() # add step amount * random value\n",
    "\n",
    "    return weights_mutated"
   ]
  },
  {
   "cell_type": "markdown",
   "metadata": {},
   "source": [
    "Now we are ready to train! We will train until either we reach a set number of iterations or our error is less than a set error goal."
   ]
  },
  {
   "cell_type": "code",
   "execution_count": 7,
   "metadata": {},
   "outputs": [
    {
     "name": "stdout",
     "output_type": "stream",
     "text": [
      "Error at iteration 0 :\t [0.97269033]\n",
      "Error at iteration 100 :\t [0.91478445]\n",
      "Error at iteration 200 :\t [0.82323889]\n",
      "Error at iteration 300 :\t [0.72226989]\n",
      "Error at iteration 400 :\t [0.66679891]\n",
      "Error at iteration 500 :\t [0.5914151]\n",
      "Error at iteration 600 :\t [0.51948471]\n",
      "Error at iteration 700 :\t [0.47568967]\n",
      "Error at iteration 800 :\t [0.4190064]\n",
      "Error at iteration 900 :\t [0.36483499]\n",
      "Error at iteration 1000 :\t [0.33217881]\n",
      "Error at iteration 1100 :\t [0.31006956]\n",
      "Error at iteration 1200 :\t [0.27895944]\n",
      "Error at iteration 1300 :\t [0.24951573]\n",
      "Error at iteration 1400 :\t [0.21952923]\n",
      "Error at iteration 1500 :\t [0.20019279]\n",
      "Error at iteration 1600 :\t [0.17436677]\n",
      "Error at iteration 1700 :\t [0.15790532]\n",
      "Error at iteration 1800 :\t [0.14344751]\n",
      "Error at iteration 1900 :\t [0.12644499]\n",
      "Error at iteration 2000 :\t [0.11037521]\n"
     ]
    }
   ],
   "source": [
    "STEP_SIZE = 0.02\n",
    "NUM_ITERATIONS = 10000\n",
    "ERROR_GOAL = 0.1\n",
    "\n",
    "counter = 0\n",
    "errors = []\n",
    "\n",
    "while ERROR_GOAL < error and NUM_ITERATIONS > counter:\n",
    "    step_amount = STEP_SIZE * np.random.normal() # calculate step amount for this iteration\n",
    "\n",
    "    weights_mutated = mutate(weights, step_amount) # mutate weights\n",
    "\n",
    "    error_weights_mutated = evaluate(x, y, weights_mutated) # calculate error of network with mutated weights\n",
    "\n",
    "    # print error every 100 iterations\n",
    "    if counter % 100 == 0:\n",
    "        print(\"Error at iteration\",counter,\":\\t\",error_weights_mutated)\n",
    "        \n",
    "    # store current error in list for plotting\n",
    "    errors.append(error_weights_mutated)\n",
    "\n",
    "    # if mutated weights are better than the current weights, update\n",
    "    if error_weights_mutated < error:\n",
    "        weights = weights_mutated\n",
    "        error = error_weights_mutated\n",
    "\n",
    "    counter += 1"
   ]
  },
  {
   "cell_type": "markdown",
   "metadata": {},
   "source": [
    "To test the network, we will generate predictions for all training samples (x) and compare these with the expected values (y)."
   ]
  },
  {
   "cell_type": "code",
   "execution_count": 8,
   "metadata": {},
   "outputs": [
    {
     "name": "stdout",
     "output_type": "stream",
     "text": [
      "Input: [1 0 0] Target: [0] Prediction: [0]\n",
      "Input: [1 0 1] Target: [0] Prediction: [0]\n",
      "Input: [1 1 0] Target: [0] Prediction: [0]\n",
      "Input: [1 1 1] Target: [1] Prediction: [1]\n",
      "Accuracy: 100.0 %\n"
     ]
    }
   ],
   "source": [
    "correct_predictions = 0\n",
    "\n",
    "for x_i, y_i in zip(x, y): # for each sample in dataset\n",
    "    prediction = np.round(predict(x_i, weights)) # get prediction\n",
    "    if prediction == y_i: # if prediction is correct, add 1 to correct_predictions\n",
    "        correct_predictions += 1\n",
    "    print(\"Input:\", x_i, \"Target:\", y_i, \"Prediction:\", [int(prediction)])\n",
    "\n",
    "print(\"Accuracy:\",correct_predictions/len(x) * 100,\"%\") # display accuracy"
   ]
  },
  {
   "cell_type": "markdown",
   "metadata": {},
   "source": [
    "Finally we can plot the error curve to visualise how the network improved over the course of training."
   ]
  },
  {
   "cell_type": "code",
   "execution_count": 9,
   "metadata": {},
   "outputs": [
    {
     "data": {
      "image/png": "[encoded data removed]",
      "text/plain": [
       "<Figure size 432x288 with 1 Axes>"
      ]
     },
     "metadata": {
      "needs_background": "light"
     },
     "output_type": "display_data"
    }
   ],
   "source": [
    "# plot error curve\n",
    "\n",
    "plt.plot(range(counter), errors)\n",
    "plt.xlabel(\"Iteration\")\n",
    "plt.ylabel(\"Average error\")\n",
    "plt.show()"
   ]
  },
  {
   "cell_type": "code",
   "execution_count": null,
   "metadata": {},
   "outputs": [],
   "source": []
  }
 ],
 "metadata": {
  "kernelspec": {
   "display_name": "Python 3",
   "language": "python",
   "name": "python3"
  },
  "language_info": {
   "codemirror_mode": {
    "name": "ipython",
    "version": 3
   },
   "file_extension": ".py",
   "mimetype": "text/x-python",
   "name": "python",
   "nbconvert_exporter": "python",
   "pygments_lexer": "ipython3",
   "version": "3.8.5"
  }
 },
 "nbformat": 4,
 "nbformat_minor": 2
}
