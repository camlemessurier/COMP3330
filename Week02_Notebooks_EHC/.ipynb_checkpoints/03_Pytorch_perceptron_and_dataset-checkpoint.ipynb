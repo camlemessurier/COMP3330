{
 "cells": [
  {
   "cell_type": "markdown",
   "metadata": {},
   "source": [
    "# Single Layer Perceptron (Pytorch - AND Dataset)"
   ]
  },
  {
   "cell_type": "markdown",
   "metadata": {},
   "source": [
    "PyTorch is an open source machine learning library based on the Torch library, used for applications such as computer vision and natural language processing, primarily developed by Facebook's AI Research lab. It is free and open-source software released under the Modified BSD license.\n",
    "\n",
    "Firstly, we will import the necessary libraries and then construct the dataset. \n",
    "\n",
    "\n",
    "| a | b | a AND b |\n",
    "|:-:|:-:|:-------:|\n",
    "| 0 | 0 |    0    |\n",
    "| 0 | 1 |    0    |\n",
    "| 1 | 0 |    0    |\n",
    "| 1 | 1 |    1    |\n",
    "\n",
    "We will split the dataset into the inputs (a, b) and the target (a OR b), making things easier for training and testing the network. In this example we will use standard Python lists but we could just as easily use Numpy arrays."
   ]
  },
  {
   "cell_type": "code",
   "execution_count": 1,
   "metadata": {},
   "outputs": [],
   "source": [
    "# Import libraries\n",
    "import torch\n",
    "import torch.nn as nn\n",
    "import torch.optim as optim\n",
    "import matplotlib.pyplot as plt\n",
    "\n",
    "# Create dataset\n",
    "data = torch.tensor([\n",
    "    [0, 0],\n",
    "    [0, 1],\n",
    "    [1, 0],\n",
    "    [1, 1]\n",
    "    ], dtype=torch.float32, requires_grad=True)\n",
    "\n",
    "labels = torch.tensor([0,0,0,1], dtype=torch.float32, requires_grad=False)"
   ]
  },
  {
   "cell_type": "markdown",
   "metadata": {},
   "source": [
    "Now we will construct the neural network model. First, we define weights and bias that can be used later during the network training. We will later feed in the dataset we created above. We are going to use a neural network model with no hidden layers, and a bias unit. We will use one output unit, capable of representing our two classes.\n"
   ]
  },
  {
   "cell_type": "code",
   "execution_count": 2,
   "metadata": {},
   "outputs": [],
   "source": [
    "weights = torch.zeros(2, dtype=torch.float32, requires_grad=True)\n",
    "bias = torch.zeros(1, requires_grad=True)\n",
    "losses = []"
   ]
  },
  {
   "cell_type": "markdown",
   "metadata": {},
   "source": [
    "Now we will define the error function and optimizer. For the error function we will use a standard mean squared error function, and for the optimizer we will use a gradient descent algorithm with a learning rate of 0.5. We will also set the optimizer's task to be to minimize the cost."
   ]
  },
  {
   "cell_type": "code",
   "execution_count": 3,
   "metadata": {},
   "outputs": [],
   "source": [
    "# Define error function\n",
    "def loss_ff (y,out):\n",
    "    loss = (out-y).pow(2)\n",
    "    return loss\n",
    "\n",
    "loss_f = nn.MSELoss()\n",
    "\n",
    "# Define optimizer and its task (minimise error function)\n",
    "optimizer = optim.SGD((weights,bias) , lr = 0.5)"
   ]
  },
  {
   "cell_type": "markdown",
   "metadata": {},
   "source": [
    "Finally, we can train the network. This involves running a Tensorflow session, feeding in the dataset we created earlier, and running the optimizer for a set number of epochs."
   ]
  },
  {
   "cell_type": "code",
   "execution_count": 4,
   "metadata": {},
   "outputs": [],
   "source": [
    "epochs = 1000\n",
    "eta = 0.5\n",
    "for epoch in range(epochs):\n",
    "    total_loss = 0\n",
    "    for idx in range(4):\n",
    "        # take current input\n",
    "        optimizer.zero_grad()\n",
    "        X = data[idx,:]\n",
    "        y = labels[idx]\n",
    "        pred = torch.add(torch.dot(weights, X), bias)\n",
    "        sig = nn.Sigmoid()\n",
    "        pred = sig(pred)\n",
    "        loss = loss_ff (y,pred)\n",
    "        # loss = (out-y).pow(2)\n",
    "        total_loss += loss.item()\n",
    "        loss.backward()\n",
    "        optimizer.step()\n",
    "\n",
    "        # compute accuracy and update parameters\n",
    "        with torch.no_grad():\n",
    "            weights -= eta * weights.grad\n",
    "            bias -= eta * bias.grad\n",
    "            # reset gradient to zero\n",
    "            weights.grad.zero_()\n",
    "            bias.grad.zero_()\n",
    "    losses.append(total_loss)"
   ]
  },
  {
   "cell_type": "markdown",
   "metadata": {},
   "source": [
    "Now that training has finished, we can activate the trained model on the original dataset and compare its output with the target. Note that it is generally bad practice to test a model on training data, however this makes sense for this example."
   ]
  },
  {
   "cell_type": "code",
   "execution_count": 5,
   "metadata": {},
   "outputs": [
    {
     "name": "stdout",
     "output_type": "stream",
     "text": [
      "pred tensor([0.], grad_fn=<RoundBackward>)\n",
      "Input:\t [0, 0]\n",
      "Pred:\t 0\n",
      "Output:\t 0\n",
      "#####\n",
      "pred tensor([0.], grad_fn=<RoundBackward>)\n",
      "Input:\t [0, 1]\n",
      "Pred:\t 0\n",
      "Output:\t 0\n",
      "#####\n",
      "pred tensor([0.], grad_fn=<RoundBackward>)\n",
      "Input:\t [1, 0]\n",
      "Pred:\t 0\n",
      "Output:\t 0\n",
      "#####\n",
      "pred tensor([1.], grad_fn=<RoundBackward>)\n",
      "Input:\t [1, 1]\n",
      "Pred:\t 1\n",
      "Output:\t 1\n",
      "#####\n"
     ]
    },
    {
     "data": {
      "image/png": "[encoded data removed]",
      "text/plain": [
       "<Figure size 432x288 with 1 Axes>"
      ]
     },
     "metadata": {
      "needs_background": "light"
     },
     "output_type": "display_data"
    }
   ],
   "source": [
    "for _x, _y in zip(data,labels):\n",
    "    # pred = model(_x)\n",
    "    pred = torch.add(torch.dot(weights, _x), bias)\n",
    "    pred = sig(pred)\n",
    "    print ('pred', torch.round(pred))\n",
    "    \n",
    "    print ('Input:\\t', list(map(int,_x)))\n",
    "    print ('Pred:\\t', int(torch.round(pred)))\n",
    "    print ('Output:\\t', int(_y))\n",
    "    print ('#####')\n",
    "    \n",
    "plt.plot(losses)\n",
    "plt.show()"
   ]
  },
  {
   "cell_type": "code",
   "execution_count": null,
   "metadata": {},
   "outputs": [],
   "source": []
  }
 ],
 "metadata": {
  "kernelspec": {
   "display_name": "Python 3",
   "language": "python",
   "name": "python3"
  },
  "language_info": {
   "codemirror_mode": {
    "name": "ipython",
    "version": 3
   },
   "file_extension": ".py",
   "mimetype": "text/x-python",
   "name": "python",
   "nbconvert_exporter": "python",
   "pygments_lexer": "ipython3",
   "version": "3.8.3"
  }
 },
 "nbformat": 4,
 "nbformat_minor": 4
}
